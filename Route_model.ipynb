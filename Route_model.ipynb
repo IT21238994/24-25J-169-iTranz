{
  "nbformat": 4,
  "nbformat_minor": 0,
  "metadata": {
    "colab": {
      "provenance": [],
      "authorship_tag": "ABX9TyP+0JKsxBQpFxRfQaf/bX6Y",
      "include_colab_link": true
    },
    "kernelspec": {
      "name": "python3",
      "display_name": "Python 3"
    },
    "language_info": {
      "name": "python"
    }
  },
  "cells": [
    {
      "cell_type": "markdown",
      "metadata": {
        "id": "view-in-github",
        "colab_type": "text"
      },
      "source": [
        "<a href=\"https://colab.research.google.com/github/IT21238994/24-25J-169-iTranz/blob/RouteModel_IT21298394/Route_model.ipynb\" target=\"_parent\"><img src=\"https://colab.research.google.com/assets/colab-badge.svg\" alt=\"Open In Colab\"/></a>"
      ]
    },
    {
      "cell_type": "markdown",
      "source": [
        "Setup and installation\n"
      ],
      "metadata": {
        "id": "42vgYqp_qh7a"
      }
    },
    {
      "cell_type": "code",
      "execution_count": 4,
      "metadata": {
        "id": "tnwyxca1kfDQ",
        "colab": {
          "base_uri": "https://localhost:8080/"
        },
        "outputId": "68934d53-23aa-4433-f43b-313c001794f9"
      },
      "outputs": [
        {
          "output_type": "stream",
          "name": "stdout",
          "text": [
            "Requirement already satisfied: lightgbm in /usr/local/lib/python3.10/dist-packages (4.5.0)\n",
            "Requirement already satisfied: shap in /usr/local/lib/python3.10/dist-packages (0.46.0)\n",
            "Requirement already satisfied: numpy>=1.17.0 in /usr/local/lib/python3.10/dist-packages (from lightgbm) (1.26.4)\n",
            "Requirement already satisfied: scipy in /usr/local/lib/python3.10/dist-packages (from lightgbm) (1.13.1)\n",
            "Requirement already satisfied: scikit-learn in /usr/local/lib/python3.10/dist-packages (from shap) (1.5.2)\n",
            "Requirement already satisfied: pandas in /usr/local/lib/python3.10/dist-packages (from shap) (2.2.2)\n",
            "Requirement already satisfied: tqdm>=4.27.0 in /usr/local/lib/python3.10/dist-packages (from shap) (4.66.6)\n",
            "Requirement already satisfied: packaging>20.9 in /usr/local/lib/python3.10/dist-packages (from shap) (24.2)\n",
            "Requirement already satisfied: slicer==0.0.8 in /usr/local/lib/python3.10/dist-packages (from shap) (0.0.8)\n",
            "Requirement already satisfied: numba in /usr/local/lib/python3.10/dist-packages (from shap) (0.60.0)\n",
            "Requirement already satisfied: cloudpickle in /usr/local/lib/python3.10/dist-packages (from shap) (3.1.0)\n",
            "Requirement already satisfied: llvmlite<0.44,>=0.43.0dev0 in /usr/local/lib/python3.10/dist-packages (from numba->shap) (0.43.0)\n",
            "Requirement already satisfied: python-dateutil>=2.8.2 in /usr/local/lib/python3.10/dist-packages (from pandas->shap) (2.8.2)\n",
            "Requirement already satisfied: pytz>=2020.1 in /usr/local/lib/python3.10/dist-packages (from pandas->shap) (2024.2)\n",
            "Requirement already satisfied: tzdata>=2022.7 in /usr/local/lib/python3.10/dist-packages (from pandas->shap) (2024.2)\n",
            "Requirement already satisfied: joblib>=1.2.0 in /usr/local/lib/python3.10/dist-packages (from scikit-learn->shap) (1.4.2)\n",
            "Requirement already satisfied: threadpoolctl>=3.1.0 in /usr/local/lib/python3.10/dist-packages (from scikit-learn->shap) (3.5.0)\n",
            "Requirement already satisfied: six>=1.5 in /usr/local/lib/python3.10/dist-packages (from python-dateutil>=2.8.2->pandas->shap) (1.16.0)\n",
            "Requirement already satisfied: lightgbm in /usr/local/lib/python3.10/dist-packages (4.5.0)\n",
            "Requirement already satisfied: numpy>=1.17.0 in /usr/local/lib/python3.10/dist-packages (from lightgbm) (1.26.4)\n",
            "Requirement already satisfied: scipy in /usr/local/lib/python3.10/dist-packages (from lightgbm) (1.13.1)\n"
          ]
        }
      ],
      "source": [
        "# Install required libraries\n",
        "!pip install lightgbm shap\n",
        "!pip install --upgrade lightgbm\n",
        "\n",
        "# Import libraries\n",
        "import pandas as pd\n",
        "import numpy as np\n",
        "import lightgbm as lgb\n",
        "import shap\n",
        "import matplotlib.pyplot as plt\n",
        "import seaborn as sns\n",
        "from sklearn.model_selection import train_test_split, GridSearchCV, StratifiedKFold\n",
        "from sklearn.preprocessing import LabelEncoder\n",
        "from sklearn.metrics import accuracy_score, roc_auc_score, confusion_matrix, classification_report\n",
        "import warnings\n",
        "warnings.filterwarnings('ignore')\n",
        "\n",
        "# Set plot styles\n",
        "sns.set(style='whitegrid', palette='muted', font_scale=1.2)\n"
      ]
    },
    {
      "cell_type": "markdown",
      "source": [
        "Data loading"
      ],
      "metadata": {
        "id": "gk1NSuCYq9T6"
      }
    },
    {
      "cell_type": "code",
      "source": [
        "# Load the dataset\n",
        "df = pd.read_csv('bus_schedule_sept_nov_2024.csv')\n",
        "\n",
        "# Display first few rows\n",
        "df.head()\n"
      ],
      "metadata": {
        "colab": {
          "base_uri": "https://localhost:8080/",
          "height": 310
        },
        "id": "r8Mtre-xquGD",
        "outputId": "055a709a-47bc-4679-a1bb-70e00df4c061"
      },
      "execution_count": 6,
      "outputs": [
        {
          "output_type": "execute_result",
          "data": {
            "text/plain": [
              "         Date       Day      Time  Route Traffic_Level  Delay (min)  \\\n",
              "0  24.10.2024  Thursday   2:35 PM    356           Low            2   \n",
              "1  27.10.2024    Sunday   6:00 PM    380           Low            0   \n",
              "2  20.09.2024    Friday  12:50 PM    356        Medium            8   \n",
              "3  14.10.2024    Monday   5:20 PM    380           Low            1   \n",
              "4  16.09.2024    Monday   6:40 PM    380           Low            0   \n",
              "\n",
              "   Distance (km)  Full Trip Time(min)  Average Speed (kmph)  \\\n",
              "0            9.2                   21                  32.5   \n",
              "1           10.9                   28                  31.4   \n",
              "2            9.2                   21                  32.5   \n",
              "3           10.9                   28                  31.4   \n",
              "4           10.9                   28                  31.4   \n",
              "\n",
              "   Average Bus Stop Time(min)  Fare (LKR)  Seat_Availability (%)  \\\n",
              "0                         2.3          66                     48   \n",
              "1                         2.5          77                     45   \n",
              "2                         2.3          66                     17   \n",
              "3                         2.5          77                     47   \n",
              "4                         2.5          77                     53   \n",
              "\n",
              "   Historical_Peak_Delay (min)  \n",
              "0                            0  \n",
              "1                            0  \n",
              "2                            8  \n",
              "3                            0  \n",
              "4                            0  "
            ],
            "text/html": [
              "\n",
              "  <div id=\"df-b653dda0-a7ab-4239-a8f7-55208b0f55ce\" class=\"colab-df-container\">\n",
              "    <div>\n",
              "<style scoped>\n",
              "    .dataframe tbody tr th:only-of-type {\n",
              "        vertical-align: middle;\n",
              "    }\n",
              "\n",
              "    .dataframe tbody tr th {\n",
              "        vertical-align: top;\n",
              "    }\n",
              "\n",
              "    .dataframe thead th {\n",
              "        text-align: right;\n",
              "    }\n",
              "</style>\n",
              "<table border=\"1\" class=\"dataframe\">\n",
              "  <thead>\n",
              "    <tr style=\"text-align: right;\">\n",
              "      <th></th>\n",
              "      <th>Date</th>\n",
              "      <th>Day</th>\n",
              "      <th>Time</th>\n",
              "      <th>Route</th>\n",
              "      <th>Traffic_Level</th>\n",
              "      <th>Delay (min)</th>\n",
              "      <th>Distance (km)</th>\n",
              "      <th>Full Trip Time(min)</th>\n",
              "      <th>Average Speed (kmph)</th>\n",
              "      <th>Average Bus Stop Time(min)</th>\n",
              "      <th>Fare (LKR)</th>\n",
              "      <th>Seat_Availability (%)</th>\n",
              "      <th>Historical_Peak_Delay (min)</th>\n",
              "    </tr>\n",
              "  </thead>\n",
              "  <tbody>\n",
              "    <tr>\n",
              "      <th>0</th>\n",
              "      <td>24.10.2024</td>\n",
              "      <td>Thursday</td>\n",
              "      <td>2:35 PM</td>\n",
              "      <td>356</td>\n",
              "      <td>Low</td>\n",
              "      <td>2</td>\n",
              "      <td>9.2</td>\n",
              "      <td>21</td>\n",
              "      <td>32.5</td>\n",
              "      <td>2.3</td>\n",
              "      <td>66</td>\n",
              "      <td>48</td>\n",
              "      <td>0</td>\n",
              "    </tr>\n",
              "    <tr>\n",
              "      <th>1</th>\n",
              "      <td>27.10.2024</td>\n",
              "      <td>Sunday</td>\n",
              "      <td>6:00 PM</td>\n",
              "      <td>380</td>\n",
              "      <td>Low</td>\n",
              "      <td>0</td>\n",
              "      <td>10.9</td>\n",
              "      <td>28</td>\n",
              "      <td>31.4</td>\n",
              "      <td>2.5</td>\n",
              "      <td>77</td>\n",
              "      <td>45</td>\n",
              "      <td>0</td>\n",
              "    </tr>\n",
              "    <tr>\n",
              "      <th>2</th>\n",
              "      <td>20.09.2024</td>\n",
              "      <td>Friday</td>\n",
              "      <td>12:50 PM</td>\n",
              "      <td>356</td>\n",
              "      <td>Medium</td>\n",
              "      <td>8</td>\n",
              "      <td>9.2</td>\n",
              "      <td>21</td>\n",
              "      <td>32.5</td>\n",
              "      <td>2.3</td>\n",
              "      <td>66</td>\n",
              "      <td>17</td>\n",
              "      <td>8</td>\n",
              "    </tr>\n",
              "    <tr>\n",
              "      <th>3</th>\n",
              "      <td>14.10.2024</td>\n",
              "      <td>Monday</td>\n",
              "      <td>5:20 PM</td>\n",
              "      <td>380</td>\n",
              "      <td>Low</td>\n",
              "      <td>1</td>\n",
              "      <td>10.9</td>\n",
              "      <td>28</td>\n",
              "      <td>31.4</td>\n",
              "      <td>2.5</td>\n",
              "      <td>77</td>\n",
              "      <td>47</td>\n",
              "      <td>0</td>\n",
              "    </tr>\n",
              "    <tr>\n",
              "      <th>4</th>\n",
              "      <td>16.09.2024</td>\n",
              "      <td>Monday</td>\n",
              "      <td>6:40 PM</td>\n",
              "      <td>380</td>\n",
              "      <td>Low</td>\n",
              "      <td>0</td>\n",
              "      <td>10.9</td>\n",
              "      <td>28</td>\n",
              "      <td>31.4</td>\n",
              "      <td>2.5</td>\n",
              "      <td>77</td>\n",
              "      <td>53</td>\n",
              "      <td>0</td>\n",
              "    </tr>\n",
              "  </tbody>\n",
              "</table>\n",
              "</div>\n",
              "    <div class=\"colab-df-buttons\">\n",
              "\n",
              "  <div class=\"colab-df-container\">\n",
              "    <button class=\"colab-df-convert\" onclick=\"convertToInteractive('df-b653dda0-a7ab-4239-a8f7-55208b0f55ce')\"\n",
              "            title=\"Convert this dataframe to an interactive table.\"\n",
              "            style=\"display:none;\">\n",
              "\n",
              "  <svg xmlns=\"http://www.w3.org/2000/svg\" height=\"24px\" viewBox=\"0 -960 960 960\">\n",
              "    <path d=\"M120-120v-720h720v720H120Zm60-500h600v-160H180v160Zm220 220h160v-160H400v160Zm0 220h160v-160H400v160ZM180-400h160v-160H180v160Zm440 0h160v-160H620v160ZM180-180h160v-160H180v160Zm440 0h160v-160H620v160Z\"/>\n",
              "  </svg>\n",
              "    </button>\n",
              "\n",
              "  <style>\n",
              "    .colab-df-container {\n",
              "      display:flex;\n",
              "      gap: 12px;\n",
              "    }\n",
              "\n",
              "    .colab-df-convert {\n",
              "      background-color: #E8F0FE;\n",
              "      border: none;\n",
              "      border-radius: 50%;\n",
              "      cursor: pointer;\n",
              "      display: none;\n",
              "      fill: #1967D2;\n",
              "      height: 32px;\n",
              "      padding: 0 0 0 0;\n",
              "      width: 32px;\n",
              "    }\n",
              "\n",
              "    .colab-df-convert:hover {\n",
              "      background-color: #E2EBFA;\n",
              "      box-shadow: 0px 1px 2px rgba(60, 64, 67, 0.3), 0px 1px 3px 1px rgba(60, 64, 67, 0.15);\n",
              "      fill: #174EA6;\n",
              "    }\n",
              "\n",
              "    .colab-df-buttons div {\n",
              "      margin-bottom: 4px;\n",
              "    }\n",
              "\n",
              "    [theme=dark] .colab-df-convert {\n",
              "      background-color: #3B4455;\n",
              "      fill: #D2E3FC;\n",
              "    }\n",
              "\n",
              "    [theme=dark] .colab-df-convert:hover {\n",
              "      background-color: #434B5C;\n",
              "      box-shadow: 0px 1px 3px 1px rgba(0, 0, 0, 0.15);\n",
              "      filter: drop-shadow(0px 1px 2px rgba(0, 0, 0, 0.3));\n",
              "      fill: #FFFFFF;\n",
              "    }\n",
              "  </style>\n",
              "\n",
              "    <script>\n",
              "      const buttonEl =\n",
              "        document.querySelector('#df-b653dda0-a7ab-4239-a8f7-55208b0f55ce button.colab-df-convert');\n",
              "      buttonEl.style.display =\n",
              "        google.colab.kernel.accessAllowed ? 'block' : 'none';\n",
              "\n",
              "      async function convertToInteractive(key) {\n",
              "        const element = document.querySelector('#df-b653dda0-a7ab-4239-a8f7-55208b0f55ce');\n",
              "        const dataTable =\n",
              "          await google.colab.kernel.invokeFunction('convertToInteractive',\n",
              "                                                    [key], {});\n",
              "        if (!dataTable) return;\n",
              "\n",
              "        const docLinkHtml = 'Like what you see? Visit the ' +\n",
              "          '<a target=\"_blank\" href=https://colab.research.google.com/notebooks/data_table.ipynb>data table notebook</a>'\n",
              "          + ' to learn more about interactive tables.';\n",
              "        element.innerHTML = '';\n",
              "        dataTable['output_type'] = 'display_data';\n",
              "        await google.colab.output.renderOutput(dataTable, element);\n",
              "        const docLink = document.createElement('div');\n",
              "        docLink.innerHTML = docLinkHtml;\n",
              "        element.appendChild(docLink);\n",
              "      }\n",
              "    </script>\n",
              "  </div>\n",
              "\n",
              "\n",
              "<div id=\"df-12b882cf-05cf-4391-b98d-895aec79fb8a\">\n",
              "  <button class=\"colab-df-quickchart\" onclick=\"quickchart('df-12b882cf-05cf-4391-b98d-895aec79fb8a')\"\n",
              "            title=\"Suggest charts\"\n",
              "            style=\"display:none;\">\n",
              "\n",
              "<svg xmlns=\"http://www.w3.org/2000/svg\" height=\"24px\"viewBox=\"0 0 24 24\"\n",
              "     width=\"24px\">\n",
              "    <g>\n",
              "        <path d=\"M19 3H5c-1.1 0-2 .9-2 2v14c0 1.1.9 2 2 2h14c1.1 0 2-.9 2-2V5c0-1.1-.9-2-2-2zM9 17H7v-7h2v7zm4 0h-2V7h2v10zm4 0h-2v-4h2v4z\"/>\n",
              "    </g>\n",
              "</svg>\n",
              "  </button>\n",
              "\n",
              "<style>\n",
              "  .colab-df-quickchart {\n",
              "      --bg-color: #E8F0FE;\n",
              "      --fill-color: #1967D2;\n",
              "      --hover-bg-color: #E2EBFA;\n",
              "      --hover-fill-color: #174EA6;\n",
              "      --disabled-fill-color: #AAA;\n",
              "      --disabled-bg-color: #DDD;\n",
              "  }\n",
              "\n",
              "  [theme=dark] .colab-df-quickchart {\n",
              "      --bg-color: #3B4455;\n",
              "      --fill-color: #D2E3FC;\n",
              "      --hover-bg-color: #434B5C;\n",
              "      --hover-fill-color: #FFFFFF;\n",
              "      --disabled-bg-color: #3B4455;\n",
              "      --disabled-fill-color: #666;\n",
              "  }\n",
              "\n",
              "  .colab-df-quickchart {\n",
              "    background-color: var(--bg-color);\n",
              "    border: none;\n",
              "    border-radius: 50%;\n",
              "    cursor: pointer;\n",
              "    display: none;\n",
              "    fill: var(--fill-color);\n",
              "    height: 32px;\n",
              "    padding: 0;\n",
              "    width: 32px;\n",
              "  }\n",
              "\n",
              "  .colab-df-quickchart:hover {\n",
              "    background-color: var(--hover-bg-color);\n",
              "    box-shadow: 0 1px 2px rgba(60, 64, 67, 0.3), 0 1px 3px 1px rgba(60, 64, 67, 0.15);\n",
              "    fill: var(--button-hover-fill-color);\n",
              "  }\n",
              "\n",
              "  .colab-df-quickchart-complete:disabled,\n",
              "  .colab-df-quickchart-complete:disabled:hover {\n",
              "    background-color: var(--disabled-bg-color);\n",
              "    fill: var(--disabled-fill-color);\n",
              "    box-shadow: none;\n",
              "  }\n",
              "\n",
              "  .colab-df-spinner {\n",
              "    border: 2px solid var(--fill-color);\n",
              "    border-color: transparent;\n",
              "    border-bottom-color: var(--fill-color);\n",
              "    animation:\n",
              "      spin 1s steps(1) infinite;\n",
              "  }\n",
              "\n",
              "  @keyframes spin {\n",
              "    0% {\n",
              "      border-color: transparent;\n",
              "      border-bottom-color: var(--fill-color);\n",
              "      border-left-color: var(--fill-color);\n",
              "    }\n",
              "    20% {\n",
              "      border-color: transparent;\n",
              "      border-left-color: var(--fill-color);\n",
              "      border-top-color: var(--fill-color);\n",
              "    }\n",
              "    30% {\n",
              "      border-color: transparent;\n",
              "      border-left-color: var(--fill-color);\n",
              "      border-top-color: var(--fill-color);\n",
              "      border-right-color: var(--fill-color);\n",
              "    }\n",
              "    40% {\n",
              "      border-color: transparent;\n",
              "      border-right-color: var(--fill-color);\n",
              "      border-top-color: var(--fill-color);\n",
              "    }\n",
              "    60% {\n",
              "      border-color: transparent;\n",
              "      border-right-color: var(--fill-color);\n",
              "    }\n",
              "    80% {\n",
              "      border-color: transparent;\n",
              "      border-right-color: var(--fill-color);\n",
              "      border-bottom-color: var(--fill-color);\n",
              "    }\n",
              "    90% {\n",
              "      border-color: transparent;\n",
              "      border-bottom-color: var(--fill-color);\n",
              "    }\n",
              "  }\n",
              "</style>\n",
              "\n",
              "  <script>\n",
              "    async function quickchart(key) {\n",
              "      const quickchartButtonEl =\n",
              "        document.querySelector('#' + key + ' button');\n",
              "      quickchartButtonEl.disabled = true;  // To prevent multiple clicks.\n",
              "      quickchartButtonEl.classList.add('colab-df-spinner');\n",
              "      try {\n",
              "        const charts = await google.colab.kernel.invokeFunction(\n",
              "            'suggestCharts', [key], {});\n",
              "      } catch (error) {\n",
              "        console.error('Error during call to suggestCharts:', error);\n",
              "      }\n",
              "      quickchartButtonEl.classList.remove('colab-df-spinner');\n",
              "      quickchartButtonEl.classList.add('colab-df-quickchart-complete');\n",
              "    }\n",
              "    (() => {\n",
              "      let quickchartButtonEl =\n",
              "        document.querySelector('#df-12b882cf-05cf-4391-b98d-895aec79fb8a button');\n",
              "      quickchartButtonEl.style.display =\n",
              "        google.colab.kernel.accessAllowed ? 'block' : 'none';\n",
              "    })();\n",
              "  </script>\n",
              "</div>\n",
              "\n",
              "    </div>\n",
              "  </div>\n"
            ],
            "application/vnd.google.colaboratory.intrinsic+json": {
              "type": "dataframe",
              "variable_name": "df",
              "summary": "{\n  \"name\": \"df\",\n  \"rows\": 3926,\n  \"fields\": [\n    {\n      \"column\": \"Date\",\n      \"properties\": {\n        \"dtype\": \"object\",\n        \"num_unique_values\": 91,\n        \"samples\": [\n          \"18.09.2024\",\n          \"18.10.2024\",\n          \"10.11.2024\"\n        ],\n        \"semantic_type\": \"\",\n        \"description\": \"\"\n      }\n    },\n    {\n      \"column\": \"Day\",\n      \"properties\": {\n        \"dtype\": \"category\",\n        \"num_unique_values\": 7,\n        \"samples\": [\n          \"Thursday\",\n          \"Sunday\",\n          \"Tuesday\"\n        ],\n        \"semantic_type\": \"\",\n        \"description\": \"\"\n      }\n    },\n    {\n      \"column\": \"Time\",\n      \"properties\": {\n        \"dtype\": \"object\",\n        \"num_unique_values\": 41,\n        \"samples\": [\n          \"8:25 PM\",\n          \"1:20 PM\",\n          \"1:25 PM\"\n        ],\n        \"semantic_type\": \"\",\n        \"description\": \"\"\n      }\n    },\n    {\n      \"column\": \"Route\",\n      \"properties\": {\n        \"dtype\": \"number\",\n        \"std\": 11,\n        \"min\": 356,\n        \"max\": 380,\n        \"num_unique_values\": 2,\n        \"samples\": [\n          380,\n          356\n        ],\n        \"semantic_type\": \"\",\n        \"description\": \"\"\n      }\n    },\n    {\n      \"column\": \"Traffic_Level\",\n      \"properties\": {\n        \"dtype\": \"category\",\n        \"num_unique_values\": 4,\n        \"samples\": [\n          \"Medium\",\n          \"Very High\"\n        ],\n        \"semantic_type\": \"\",\n        \"description\": \"\"\n      }\n    },\n    {\n      \"column\": \"Delay (min)\",\n      \"properties\": {\n        \"dtype\": \"number\",\n        \"std\": 7,\n        \"min\": 0,\n        \"max\": 30,\n        \"num_unique_values\": 30,\n        \"samples\": [\n          16,\n          15\n        ],\n        \"semantic_type\": \"\",\n        \"description\": \"\"\n      }\n    },\n    {\n      \"column\": \"Distance (km)\",\n      \"properties\": {\n        \"dtype\": \"number\",\n        \"std\": 0.8469519314189152,\n        \"min\": 9.2,\n        \"max\": 10.9,\n        \"num_unique_values\": 2,\n        \"samples\": [\n          10.9,\n          9.2\n        ],\n        \"semantic_type\": \"\",\n        \"description\": \"\"\n      }\n    },\n    {\n      \"column\": \"Full Trip Time(min)\",\n      \"properties\": {\n        \"dtype\": \"number\",\n        \"std\": 3,\n        \"min\": 21,\n        \"max\": 28,\n        \"num_unique_values\": 2,\n        \"samples\": [\n          28,\n          21\n        ],\n        \"semantic_type\": \"\",\n        \"description\": \"\"\n      }\n    },\n    {\n      \"column\": \"Average Speed (kmph)\",\n      \"properties\": {\n        \"dtype\": \"number\",\n        \"std\": 0.5480277203298932,\n        \"min\": 31.4,\n        \"max\": 32.5,\n        \"num_unique_values\": 2,\n        \"samples\": [\n          31.4,\n          32.5\n        ],\n        \"semantic_type\": \"\",\n        \"description\": \"\"\n      }\n    },\n    {\n      \"column\": \"Average Bus Stop Time(min)\",\n      \"properties\": {\n        \"dtype\": \"number\",\n        \"std\": 0.09964140369633835,\n        \"min\": 2.3,\n        \"max\": 2.5,\n        \"num_unique_values\": 2,\n        \"samples\": [\n          2.5,\n          2.3\n        ],\n        \"semantic_type\": \"\",\n        \"description\": \"\"\n      }\n    },\n    {\n      \"column\": \"Fare (LKR)\",\n      \"properties\": {\n        \"dtype\": \"number\",\n        \"std\": 5,\n        \"min\": 66,\n        \"max\": 77,\n        \"num_unique_values\": 2,\n        \"samples\": [\n          77,\n          66\n        ],\n        \"semantic_type\": \"\",\n        \"description\": \"\"\n      }\n    },\n    {\n      \"column\": \"Seat_Availability (%)\",\n      \"properties\": {\n        \"dtype\": \"number\",\n        \"std\": 21,\n        \"min\": 0,\n        \"max\": 70,\n        \"num_unique_values\": 67,\n        \"samples\": [\n          11,\n          9\n        ],\n        \"semantic_type\": \"\",\n        \"description\": \"\"\n      }\n    },\n    {\n      \"column\": \"Historical_Peak_Delay (min)\",\n      \"properties\": {\n        \"dtype\": \"number\",\n        \"std\": 7,\n        \"min\": 0,\n        \"max\": 30,\n        \"num_unique_values\": 30,\n        \"samples\": [\n          16,\n          20\n        ],\n        \"semantic_type\": \"\",\n        \"description\": \"\"\n      }\n    }\n  ]\n}"
            }
          },
          "metadata": {},
          "execution_count": 6
        }
      ]
    },
    {
      "cell_type": "markdown",
      "source": [
        "Feature Engineering"
      ],
      "metadata": {
        "id": "H9TqWfnSqQf1"
      }
    },
    {
      "cell_type": "code",
      "source": [
        "# Encode Traffic_Level\n",
        "traffic_mapping = {'Low': 0, 'Medium': 1, 'High': 2, 'Very High': 3}\n",
        "df['Traffic_Level_Encoded'] = df['Traffic_Level'].map(traffic_mapping)\n",
        "\n",
        "# Encode Day of the Week\n",
        "day_encoder = LabelEncoder()\n",
        "df['Day_Encoded'] = day_encoder.fit_transform(df['Day'])\n",
        "\n",
        "# Extract Hour and Minute from Time\n",
        "from datetime import datetime\n",
        "\n",
        "def extract_time_features(time_str):\n",
        "    time_obj = datetime.strptime(time_str, '%I:%M %p')\n",
        "    return time_obj.hour, time_obj.minute\n",
        "\n",
        "df[['Hour', 'Minute']] = df['Time'].apply(lambda x: pd.Series(extract_time_features(x)))\n",
        "\n",
        "# Represent Time Cyclically\n",
        "df['Hour_Sin'] = np.sin(2 * np.pi * df['Hour']/24)\n",
        "df['Hour_Cos'] = np.cos(2 * np.pi * df['Hour']/24)\n",
        "df['Minute_Sin'] = np.sin(2 * np.pi * df['Minute']/60)\n",
        "df['Minute_Cos'] = np.cos(2 * np.pi * df['Minute']/60)"
      ],
      "metadata": {
        "id": "8lp1rNAQq06A"
      },
      "execution_count": 7,
      "outputs": []
    },
    {
      "cell_type": "markdown",
      "source": [
        "Handling special days"
      ],
      "metadata": {
        "id": "qRueUCZDqiNb"
      }
    },
    {
      "cell_type": "code",
      "source": [
        "# Define special days\n",
        "special_days = {\n",
        "    '2024-11-11': 'Sale Day',\n",
        "    '2024-11-29': 'Black Friday',\n",
        "    '2024-11-30': 'Black Friday',\n",
        "    '2024-09-15': 'Local Festival',\n",
        "    '2024-10-10': 'Public Holiday',\n",
        "    '2024-10-25': 'Market Day'\n",
        "}\n",
        "\n",
        "# Convert Date to datetime\n",
        "df['Date_dt'] = pd.to_datetime(df['Date'], format='%d.%m.%Y')\n",
        "\n",
        "# Create Special_Day binary feature\n",
        "df['Special_Day'] = df['Date_dt'].dt.strftime('%Y-%m-%d').isin(special_days.keys()).astype(int)\n",
        "\n",
        "# Create Event_Type encoded feature\n",
        "event_mapping = {v: k for k, v in enumerate(set(special_days.values()), start=1)}\n",
        "df['Event_Type'] = df['Date_dt'].dt.strftime('%Y-%m-%d').map(lambda x: event_mapping[special_days[x]] if x in special_days else 0)\n",
        "\n",
        "# Interaction Feature: Traffic_Level * Event_Type\n",
        "df['Traffic_Event_Interaction'] = df['Traffic_Level_Encoded'] * df['Event_Type']\n"
      ],
      "metadata": {
        "id": "pHS5frRAqd1k"
      },
      "execution_count": 8,
      "outputs": []
    },
    {
      "cell_type": "markdown",
      "source": [
        "User Preferences Integration"
      ],
      "metadata": {
        "id": "V_Y29rTgqooT"
      }
    },
    {
      "cell_type": "code",
      "source": [
        "# Simulate User Preferences\n",
        "# Assuming 1000 unique users\n",
        "num_users = 1000\n",
        "np.random.seed(42)\n",
        "user_ids = np.random.choice(range(1, num_users+1), size=len(df))\n",
        "\n",
        "df['User_ID'] = user_ids\n",
        "\n",
        "# Generate synthetic user preferences\n",
        "user_preferences = pd.DataFrame({\n",
        "    'User_ID': range(1, num_users+1),\n",
        "    'Fare_Sensitivity': np.random.choice(['Low', 'High'], size=num_users, p=[0.7, 0.3]),\n",
        "    'Comfort_Preference': np.random.randint(1, 6, size=num_users)  # Scale 1-5\n",
        "})\n",
        "\n",
        "# Merge with main dataset\n",
        "df = df.merge(user_preferences, on='User_ID', how='left')\n",
        "\n",
        "# Encode User Preferences\n",
        "fare_mapping = {'Low': 0, 'High': 1}\n",
        "df['Fare_Sensitivity_Encoded'] = df['Fare_Sensitivity'].map(fare_mapping)\n"
      ],
      "metadata": {
        "id": "uRQ--6HIqpQs"
      },
      "execution_count": 9,
      "outputs": []
    },
    {
      "cell_type": "markdown",
      "source": [
        "Real-Time Delay Simulation"
      ],
      "metadata": {
        "id": "N8YYhU8Fq2Ya"
      }
    },
    {
      "cell_type": "code",
      "source": [
        "# Simulate Real-Time Delay Updates\n",
        "df['Real_Time_Delay'] = df['Delay (min)'] + np.random.randint(-2, 3, size=len(df))  # +/-2 minutes variability\n",
        "df['Real_Time_Delay'] = df['Real_Time_Delay'].apply(lambda x: max(x, 0))  # Ensure non-negative delays\n"
      ],
      "metadata": {
        "id": "QfUIHDUZq3E6"
      },
      "execution_count": 10,
      "outputs": []
    },
    {
      "cell_type": "markdown",
      "source": [
        "Composite Route Score and Target Variable"
      ],
      "metadata": {
        "id": "HEpQ6xGUq7Z2"
      }
    },
    {
      "cell_type": "code",
      "source": [
        "# Define composite score\n",
        "weight_delay = -0.4  # Negative weight as lower delay is better\n",
        "weight_fare = -0.3   # Negative weight as lower fare is better\n",
        "weight_seat = 0.3    # Positive weight as higher seat availability is better\n",
        "\n",
        "df['Route_Score'] = (weight_delay * df['Delay (min)'] +\n",
        "                     weight_fare * df['Fare (LKR)'] +\n",
        "                     weight_seat * df['Seat_Availability (%)'])\n",
        "\n",
        "# Normalize Route_Score\n",
        "df['Route_Score_Normalized'] = (df['Route_Score'] - df['Route_Score'].min()) / (df['Route_Score'].max() - df['Route_Score'].min())\n",
        "\n",
        "# Define the best route as the one with the highest score per journey (Date, Time, User_ID)\n",
        "df['Best_Route'] = df.groupby(['Date_dt', 'Time', 'User_ID'])['Route_Score_Normalized'].transform(lambda x: (x == x.max()).astype(int))\n"
      ],
      "metadata": {
        "id": "ilNIo7IFq7HC"
      },
      "execution_count": 11,
      "outputs": []
    },
    {
      "cell_type": "markdown",
      "source": [
        "# **Model Training with LightGBM**"
      ],
      "metadata": {
        "id": "dMezk2JkrDW6"
      }
    },
    {
      "cell_type": "markdown",
      "source": [
        "Preparing Features and Target"
      ],
      "metadata": {
        "id": "oHqmNS3CrJFP"
      }
    },
    {
      "cell_type": "code",
      "source": [
        "# Define feature columns\n",
        "feature_cols = [\n",
        "    'Traffic_Level_Encoded', 'Day_Encoded', 'Hour_Sin', 'Hour_Cos',\n",
        "    'Minute_Sin', 'Minute_Cos', 'Special_Day', 'Event_Type',\n",
        "    'Traffic_Event_Interaction', 'Delay (min)', 'Fare (LKR)',\n",
        "    'Seat_Availability (%)', 'Distance (km)', 'Full Trip Time(min)',\n",
        "    'Average Speed (kmph)', 'Average Bus Stop Time(min)',\n",
        "    'Fare_Sensitivity_Encoded', 'Comfort_Preference', 'Real_Time_Delay'\n",
        "]\n",
        "\n",
        "X = df[feature_cols]\n",
        "y = df['Best_Route']\n"
      ],
      "metadata": {
        "id": "--bMdDe1rH6D"
      },
      "execution_count": 12,
      "outputs": []
    },
    {
      "cell_type": "markdown",
      "source": [
        "Handling Class Imbalance"
      ],
      "metadata": {
        "id": "X7dWIMxFrMZB"
      }
    },
    {
      "cell_type": "code",
      "source": [
        "# Check class distribution\n",
        "print(y.value_counts())\n",
        "\n",
        "# Plot class distribution\n",
        "sns.countplot(y)\n",
        "plt.title('Class Distribution for Best_Route')\n",
        "plt.show()\n"
      ],
      "metadata": {
        "colab": {
          "base_uri": "https://localhost:8080/",
          "height": 513
        },
        "id": "EupsxvsFrMBU",
        "outputId": "818400ae-b6fc-4db1-e95c-081e788bd109"
      },
      "execution_count": 13,
      "outputs": [
        {
          "output_type": "stream",
          "name": "stdout",
          "text": [
            "Best_Route\n",
            "1    3926\n",
            "Name: count, dtype: int64\n"
          ]
        },
        {
          "output_type": "display_data",
          "data": {
            "text/plain": [
              "<Figure size 640x480 with 1 Axes>"
            ],
            "image/png": "[encoded data removed]"
          },
          "metadata": {}
        }
      ]
    },
    {
      "cell_type": "code",
      "source": [
        "# Define LightGBM parameters with handling for class imbalance\n",
        "params = {\n",
        "    'objective': 'binary',\n",
        "    'metric': ['binary_logloss', 'auc'],\n",
        "    'boosting_type': 'gbdt',\n",
        "    'num_leaves': 31,\n",
        "    'learning_rate': 0.05,\n",
        "    'feature_fraction': 0.9,\n",
        "    'bagging_fraction': 0.8,\n",
        "    'bagging_freq': 5,\n",
        "    'is_unbalance': True,  # Handle class imbalance\n",
        "    'verbose': -1\n",
        "}\n"
      ],
      "metadata": {
        "id": "amHkydJQrW4Y"
      },
      "execution_count": 14,
      "outputs": []
    },
    {
      "cell_type": "code",
      "source": [
        "# Split the data\n",
        "X_train, X_test, y_train, y_test = train_test_split(\n",
        "    X, y, test_size=0.2, random_state=42, stratify=y\n",
        ")\n",
        "\n",
        "# Create LightGBM datasets\n",
        "train_data = lgb.Dataset(X_train, label=y_train)\n",
        "valid_data = lgb.Dataset(X_test, label=y_test, reference=train_data)\n",
        "\n",
        "# Train the model using callbacks for early stopping\n",
        "gbm = lgb.train(\n",
        "    params,\n",
        "    train_data,\n",
        "    num_boost_round=1000,\n",
        "    valid_sets=[valid_data],\n",
        "    callbacks=[\n",
        "        lgb.early_stopping(stopping_rounds=50),  # Early stopping callback\n",
        "        lgb.log_evaluation(period=100)          # Log evaluation every 100 iterations\n",
        "    ]\n",
        ")\n"
      ],
      "metadata": {
        "colab": {
          "base_uri": "https://localhost:8080/"
        },
        "id": "Jt891Id2rY5R",
        "outputId": "250daff9-9539-48ce-f3b1-8cc1b5f451df"
      },
      "execution_count": 15,
      "outputs": [
        {
          "output_type": "stream",
          "name": "stdout",
          "text": [
            "Training until validation scores don't improve for 50 rounds\n",
            "Early stopping, best iteration is:\n",
            "[1]\tvalid_0's binary_logloss: 1.11022e-15\tvalid_0's auc: 1\n"
          ]
        }
      ]
    },
    {
      "cell_type": "markdown",
      "source": [
        "# Model **Evaluation**"
      ],
      "metadata": {
        "id": "RW0Jsu6Zrfjr"
      }
    },
    {
      "cell_type": "code",
      "source": [
        "# Predict probabilities\n",
        "y_pred_prob = gbm.predict(X_test, num_iteration=gbm.best_iteration)\n",
        "\n",
        "# Convert probabilities to binary predictions\n",
        "y_pred = [1 if prob >= 0.5 else 0 for prob in y_pred_prob]\n",
        "\n",
        "# Calculate evaluation metrics\n",
        "accuracy = accuracy_score(y_test, y_pred)\n",
        "auc = roc_auc_score(y_test, y_pred_prob)\n",
        "conf_matrix = confusion_matrix(y_test, y_pred)\n",
        "class_report = classification_report(y_test, y_pred)\n",
        "\n",
        "print(f'Accuracy: {accuracy:.4f}')\n",
        "print(f'AUC: {auc:.4f}')\n",
        "print('Confusion Matrix:')\n",
        "print(conf_matrix)\n",
        "print('Classification Report:')\n",
        "print(class_report)\n"
      ],
      "metadata": {
        "colab": {
          "base_uri": "https://localhost:8080/",
          "height": 356
        },
        "id": "PM2NEhKdrbuW",
        "outputId": "e5e924f4-f3d9-4685-e7b7-f43f4b7ffff6"
      },
      "execution_count": 16,
      "outputs": [
        {
          "output_type": "error",
          "ename": "ValueError",
          "evalue": "Only one class present in y_true. ROC AUC score is not defined in that case.",
          "traceback": [
            "\u001b[0;31m---------------------------------------------------------------------------\u001b[0m",
            "\u001b[0;31mValueError\u001b[0m                                Traceback (most recent call last)",
            "\u001b[0;32m<ipython-input-16-783b4f7d8a31>\u001b[0m in \u001b[0;36m<cell line: 9>\u001b[0;34m()\u001b[0m\n\u001b[1;32m      7\u001b[0m \u001b[0;31m# Calculate evaluation metrics\u001b[0m\u001b[0;34m\u001b[0m\u001b[0;34m\u001b[0m\u001b[0m\n\u001b[1;32m      8\u001b[0m \u001b[0maccuracy\u001b[0m \u001b[0;34m=\u001b[0m \u001b[0maccuracy_score\u001b[0m\u001b[0;34m(\u001b[0m\u001b[0my_test\u001b[0m\u001b[0;34m,\u001b[0m \u001b[0my_pred\u001b[0m\u001b[0;34m)\u001b[0m\u001b[0;34m\u001b[0m\u001b[0;34m\u001b[0m\u001b[0m\n\u001b[0;32m----> 9\u001b[0;31m \u001b[0mauc\u001b[0m \u001b[0;34m=\u001b[0m \u001b[0mroc_auc_score\u001b[0m\u001b[0;34m(\u001b[0m\u001b[0my_test\u001b[0m\u001b[0;34m,\u001b[0m \u001b[0my_pred_prob\u001b[0m\u001b[0;34m)\u001b[0m\u001b[0;34m\u001b[0m\u001b[0;34m\u001b[0m\u001b[0m\n\u001b[0m\u001b[1;32m     10\u001b[0m \u001b[0mconf_matrix\u001b[0m \u001b[0;34m=\u001b[0m \u001b[0mconfusion_matrix\u001b[0m\u001b[0;34m(\u001b[0m\u001b[0my_test\u001b[0m\u001b[0;34m,\u001b[0m \u001b[0my_pred\u001b[0m\u001b[0;34m)\u001b[0m\u001b[0;34m\u001b[0m\u001b[0;34m\u001b[0m\u001b[0m\n\u001b[1;32m     11\u001b[0m \u001b[0mclass_report\u001b[0m \u001b[0;34m=\u001b[0m \u001b[0mclassification_report\u001b[0m\u001b[0;34m(\u001b[0m\u001b[0my_test\u001b[0m\u001b[0;34m,\u001b[0m \u001b[0my_pred\u001b[0m\u001b[0;34m)\u001b[0m\u001b[0;34m\u001b[0m\u001b[0;34m\u001b[0m\u001b[0m\n",
            "\u001b[0;32m/usr/local/lib/python3.10/dist-packages/sklearn/utils/_param_validation.py\u001b[0m in \u001b[0;36mwrapper\u001b[0;34m(*args, **kwargs)\u001b[0m\n\u001b[1;32m    211\u001b[0m                     )\n\u001b[1;32m    212\u001b[0m                 ):\n\u001b[0;32m--> 213\u001b[0;31m                     \u001b[0;32mreturn\u001b[0m \u001b[0mfunc\u001b[0m\u001b[0;34m(\u001b[0m\u001b[0;34m*\u001b[0m\u001b[0margs\u001b[0m\u001b[0;34m,\u001b[0m \u001b[0;34m**\u001b[0m\u001b[0mkwargs\u001b[0m\u001b[0;34m)\u001b[0m\u001b[0;34m\u001b[0m\u001b[0;34m\u001b[0m\u001b[0m\n\u001b[0m\u001b[1;32m    214\u001b[0m             \u001b[0;32mexcept\u001b[0m \u001b[0mInvalidParameterError\u001b[0m \u001b[0;32mas\u001b[0m \u001b[0me\u001b[0m\u001b[0;34m:\u001b[0m\u001b[0;34m\u001b[0m\u001b[0;34m\u001b[0m\u001b[0m\n\u001b[1;32m    215\u001b[0m                 \u001b[0;31m# When the function is just a wrapper around an estimator, we allow\u001b[0m\u001b[0;34m\u001b[0m\u001b[0;34m\u001b[0m\u001b[0m\n",
            "\u001b[0;32m/usr/local/lib/python3.10/dist-packages/sklearn/metrics/_ranking.py\u001b[0m in \u001b[0;36mroc_auc_score\u001b[0;34m(y_true, y_score, average, sample_weight, max_fpr, multi_class, labels)\u001b[0m\n\u001b[1;32m    638\u001b[0m         \u001b[0mlabels\u001b[0m \u001b[0;34m=\u001b[0m \u001b[0mnp\u001b[0m\u001b[0;34m.\u001b[0m\u001b[0munique\u001b[0m\u001b[0;34m(\u001b[0m\u001b[0my_true\u001b[0m\u001b[0;34m)\u001b[0m\u001b[0;34m\u001b[0m\u001b[0;34m\u001b[0m\u001b[0m\n\u001b[1;32m    639\u001b[0m         \u001b[0my_true\u001b[0m \u001b[0;34m=\u001b[0m \u001b[0mlabel_binarize\u001b[0m\u001b[0;34m(\u001b[0m\u001b[0my_true\u001b[0m\u001b[0;34m,\u001b[0m \u001b[0mclasses\u001b[0m\u001b[0;34m=\u001b[0m\u001b[0mlabels\u001b[0m\u001b[0;34m)\u001b[0m\u001b[0;34m[\u001b[0m\u001b[0;34m:\u001b[0m\u001b[0;34m,\u001b[0m \u001b[0;36m0\u001b[0m\u001b[0;34m]\u001b[0m\u001b[0;34m\u001b[0m\u001b[0;34m\u001b[0m\u001b[0m\n\u001b[0;32m--> 640\u001b[0;31m         return _average_binary_score(\n\u001b[0m\u001b[1;32m    641\u001b[0m             \u001b[0mpartial\u001b[0m\u001b[0;34m(\u001b[0m\u001b[0m_binary_roc_auc_score\u001b[0m\u001b[0;34m,\u001b[0m \u001b[0mmax_fpr\u001b[0m\u001b[0;34m=\u001b[0m\u001b[0mmax_fpr\u001b[0m\u001b[0;34m)\u001b[0m\u001b[0;34m,\u001b[0m\u001b[0;34m\u001b[0m\u001b[0;34m\u001b[0m\u001b[0m\n\u001b[1;32m    642\u001b[0m             \u001b[0my_true\u001b[0m\u001b[0;34m,\u001b[0m\u001b[0;34m\u001b[0m\u001b[0;34m\u001b[0m\u001b[0m\n",
            "\u001b[0;32m/usr/local/lib/python3.10/dist-packages/sklearn/metrics/_base.py\u001b[0m in \u001b[0;36m_average_binary_score\u001b[0;34m(binary_metric, y_true, y_score, average, sample_weight)\u001b[0m\n\u001b[1;32m     74\u001b[0m \u001b[0;34m\u001b[0m\u001b[0m\n\u001b[1;32m     75\u001b[0m     \u001b[0;32mif\u001b[0m \u001b[0my_type\u001b[0m \u001b[0;34m==\u001b[0m \u001b[0;34m\"binary\"\u001b[0m\u001b[0;34m:\u001b[0m\u001b[0;34m\u001b[0m\u001b[0;34m\u001b[0m\u001b[0m\n\u001b[0;32m---> 76\u001b[0;31m         \u001b[0;32mreturn\u001b[0m \u001b[0mbinary_metric\u001b[0m\u001b[0;34m(\u001b[0m\u001b[0my_true\u001b[0m\u001b[0;34m,\u001b[0m \u001b[0my_score\u001b[0m\u001b[0;34m,\u001b[0m \u001b[0msample_weight\u001b[0m\u001b[0;34m=\u001b[0m\u001b[0msample_weight\u001b[0m\u001b[0;34m)\u001b[0m\u001b[0;34m\u001b[0m\u001b[0;34m\u001b[0m\u001b[0m\n\u001b[0m\u001b[1;32m     77\u001b[0m \u001b[0;34m\u001b[0m\u001b[0m\n\u001b[1;32m     78\u001b[0m     \u001b[0mcheck_consistent_length\u001b[0m\u001b[0;34m(\u001b[0m\u001b[0my_true\u001b[0m\u001b[0;34m,\u001b[0m \u001b[0my_score\u001b[0m\u001b[0;34m,\u001b[0m \u001b[0msample_weight\u001b[0m\u001b[0;34m)\u001b[0m\u001b[0;34m\u001b[0m\u001b[0;34m\u001b[0m\u001b[0m\n",
            "\u001b[0;32m/usr/local/lib/python3.10/dist-packages/sklearn/metrics/_ranking.py\u001b[0m in \u001b[0;36m_binary_roc_auc_score\u001b[0;34m(y_true, y_score, sample_weight, max_fpr)\u001b[0m\n\u001b[1;32m    380\u001b[0m     \u001b[0;34m\"\"\"Binary roc auc score.\"\"\"\u001b[0m\u001b[0;34m\u001b[0m\u001b[0;34m\u001b[0m\u001b[0m\n\u001b[1;32m    381\u001b[0m     \u001b[0;32mif\u001b[0m \u001b[0mlen\u001b[0m\u001b[0;34m(\u001b[0m\u001b[0mnp\u001b[0m\u001b[0;34m.\u001b[0m\u001b[0munique\u001b[0m\u001b[0;34m(\u001b[0m\u001b[0my_true\u001b[0m\u001b[0;34m)\u001b[0m\u001b[0;34m)\u001b[0m \u001b[0;34m!=\u001b[0m \u001b[0;36m2\u001b[0m\u001b[0;34m:\u001b[0m\u001b[0;34m\u001b[0m\u001b[0;34m\u001b[0m\u001b[0m\n\u001b[0;32m--> 382\u001b[0;31m         raise ValueError(\n\u001b[0m\u001b[1;32m    383\u001b[0m             \u001b[0;34m\"Only one class present in y_true. ROC AUC score \"\u001b[0m\u001b[0;34m\u001b[0m\u001b[0;34m\u001b[0m\u001b[0m\n\u001b[1;32m    384\u001b[0m             \u001b[0;34m\"is not defined in that case.\"\u001b[0m\u001b[0;34m\u001b[0m\u001b[0;34m\u001b[0m\u001b[0m\n",
            "\u001b[0;31mValueError\u001b[0m: Only one class present in y_true. ROC AUC score is not defined in that case."
          ]
        }
      ]
    },
    {
      "cell_type": "markdown",
      "source": [
        "# **Feature Importance and SHAP Analysis**"
      ],
      "metadata": {
        "id": "09r8i1-5roS_"
      }
    },
    {
      "cell_type": "code",
      "source": [
        "# Plot feature importance\n",
        "lgb.plot_importance(gbm, max_num_features=15, importance_type='split', figsize=(10,6))\n",
        "plt.title('Feature Importance (Split)')\n",
        "plt.show()\n",
        "\n",
        "lgb.plot_importance(gbm, max_num_features=15, importance_type='gain', figsize=(10,6))\n",
        "plt.title('Feature Importance (Gain)')\n",
        "plt.show()\n"
      ],
      "metadata": {
        "id": "68U8tMT9ro5X"
      },
      "execution_count": null,
      "outputs": []
    },
    {
      "cell_type": "code",
      "source": [
        "#SHAP Analysis\n",
        "# Initialize SHAP explainer\n",
        "explainer = shap.TreeExplainer(gbm)\n",
        "shap_values = explainer.shap_values(X_test)\n",
        "\n",
        "# Summary plot\n",
        "shap.summary_plot(shap_values, X_test, plot_type=\"bar\")\n"
      ],
      "metadata": {
        "id": "oQXUMjuHrrBu"
      },
      "execution_count": null,
      "outputs": []
    }
  ]
}