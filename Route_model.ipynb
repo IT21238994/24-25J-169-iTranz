{
  "nbformat": 4,
  "nbformat_minor": 0,
  "metadata": {
    "colab": {
      "provenance": [],
      "authorship_tag": "ABX9TyNbsORr/1JUorspSZEP7ZSg",
      "include_colab_link": true
    },
    "kernelspec": {
      "name": "python3",
      "display_name": "Python 3"
    },
    "language_info": {
      "name": "python"
    }
  },
  "cells": [
    {
      "cell_type": "markdown",
      "metadata": {
        "id": "view-in-github",
        "colab_type": "text"
      },
      "source": [
        "<a href=\"https://colab.research.google.com/github/IT21238994/24-25J-169-iTranz/blob/RouteModel_IT21298394/Route_model.ipynb\" target=\"_parent\"><img src=\"https://colab.research.google.com/assets/colab-badge.svg\" alt=\"Open In Colab\"/></a>"
      ]
    },
    {
      "cell_type": "markdown",
      "source": [
        "Simulated data"
      ],
      "metadata": {
        "id": "42vgYqp_qh7a"
      }
    },
    {
      "cell_type": "code",
      "execution_count": 9,
      "metadata": {
        "id": "tnwyxca1kfDQ",
        "colab": {
          "base_uri": "https://localhost:8080/"
        },
        "outputId": "52ee48b8-eef8-4e6c-a0db-efe763627e94"
      },
      "outputs": [
        {
          "output_type": "stream",
          "name": "stdout",
          "text": [
            "  Route  Traffic_Level  Delay  Distance  Fare  Seat_Availability  \\\n",
            "0   A-B              3     20        10    50                 60   \n",
            "1   A-C              2     15         8    40                 80   \n",
            "\n",
            "   Historical_Peak_Delay  User_Preference_Cost  User_Preference_Time  \\\n",
            "0                     25                     1                     0   \n",
            "1                     10                     1                     1   \n",
            "\n",
            "   Best_Route  \n",
            "0           0  \n",
            "1           1  \n"
          ]
        }
      ],
      "source": [
        "import pandas as pd\n",
        "\n",
        "# Simulated data for two routes\n",
        "data = pd.DataFrame({\n",
        "    'Route': ['A-B', 'A-C'],\n",
        "    'Traffic_Level': [3, 2],           # 1=Low, 3=High\n",
        "    'Delay': [20, 15],                # in minutes\n",
        "    'Distance': [10, 8],              # in km\n",
        "    'Fare': [50, 40],                 # in LKR\n",
        "    'Seat_Availability': [60, 80],    # in %\n",
        "    'Historical_Peak_Delay': [25, 10],# in minutes\n",
        "    'User_Preference_Cost': [1, 1],   # 1=Yes\n",
        "    'User_Preference_Time': [0, 1],   # 1=Yes\n",
        "    'Best_Route': [0, 1]              # Label: 1=Best Route, 0=Not Best\n",
        "})\n",
        "print(data)\n"
      ]
    },
    {
      "cell_type": "markdown",
      "source": [
        "Train the Random Forest Model"
      ],
      "metadata": {
        "id": "gk1NSuCYq9T6"
      }
    },
    {
      "cell_type": "code",
      "source": [
        "from sklearn.ensemble import RandomForestClassifier\n",
        "from sklearn.model_selection import train_test_split\n",
        "\n",
        "# Features (drop 'Route' and 'Best_Route' for training)\n",
        "X = data.drop(columns=['Route', 'Best_Route'])\n",
        "y = data['Best_Route']\n",
        "\n",
        "# Train-test split (80-20, even for two routes to test model generalization)\n",
        "X_train, X_test, y_train, y_test = train_test_split(X, y, test_size=0.5, random_state=42)\n",
        "\n",
        "# Train the Random Forest model\n",
        "rf_model = RandomForestClassifier(n_estimators=10, random_state=42)\n",
        "rf_model.fit(X_train, y_train)\n",
        "\n",
        "# Check accuracy\n",
        "print(f\"Training Accuracy: {rf_model.score(X_train, y_train)}\")\n",
        "print(f\"Testing Accuracy: {rf_model.score(X_test, y_test)}\")\n"
      ],
      "metadata": {
        "colab": {
          "base_uri": "https://localhost:8080/"
        },
        "id": "r8Mtre-xquGD",
        "outputId": "c2359a75-66ea-4b38-dc01-471d97954bbe"
      },
      "execution_count": 10,
      "outputs": [
        {
          "output_type": "stream",
          "name": "stdout",
          "text": [
            "Training Accuracy: 1.0\n",
            "Testing Accuracy: 0.0\n"
          ]
        }
      ]
    },
    {
      "cell_type": "code",
      "source": [
        "# New input data for prediction\n",
        "new_route = pd.DataFrame({\n",
        "    'Traffic_Level': [1],     # Medium traffic\n",
        "    'Delay': [1],            # 18 minutes delay\n",
        "    'Distance': [9],          # 9 km\n",
        "    'Fare': [45],             # LKR 45\n",
        "    'Seat_Availability': [70],# 70% available\n",
        "    'Historical_Peak_Delay': [15],# Peak delay\n",
        "    'User_Preference_Cost': [0],  # User prefers lower cost\n",
        "    'User_Preference_Time': [0]   # User does not prioritize time\n",
        "})\n",
        "\n",
        "# Predict\n",
        "prediction = rf_model.predict(new_route)\n",
        "print(\"Best Route\" if prediction[0] == 1 else \"Not Best Route\")\n"
      ],
      "metadata": {
        "colab": {
          "base_uri": "https://localhost:8080/"
        },
        "id": "8lp1rNAQq06A",
        "outputId": "43c70bd7-4ddd-4ee2-99ef-df8004c01606"
      },
      "execution_count": 14,
      "outputs": [
        {
          "output_type": "stream",
          "name": "stdout",
          "text": [
            "Not Best Route\n"
          ]
        }
      ]
    }
  ]
}