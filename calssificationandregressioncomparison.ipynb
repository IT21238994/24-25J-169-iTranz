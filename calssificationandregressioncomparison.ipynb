{
  "nbformat": 4,
  "nbformat_minor": 0,
  "metadata": {
    "colab": {
      "provenance": [],
      "authorship_tag": "ABX9TyMFETxuWG4DLddH4AKkW8BK",
      "include_colab_link": true
    },
    "kernelspec": {
      "name": "python3",
      "display_name": "Python 3"
    },
    "language_info": {
      "name": "python"
    }
  },
  "cells": [
    {
      "cell_type": "markdown",
      "metadata": {
        "id": "view-in-github",
        "colab_type": "text"
      },
      "source": [
        "<a href=\"https://colab.research.google.com/github/IT21238994/24-25J-169-iTranz/blob/RouteModel_IT21298394/calssificationandregressioncomparison.ipynb\" target=\"_parent\"><img src=\"https://colab.research.google.com/assets/colab-badge.svg\" alt=\"Open In Colab\"/></a>"
      ]
    },
    {
      "cell_type": "code",
      "source": [],
      "metadata": {
        "id": "vLzg6USvAuVs"
      },
      "execution_count": null,
      "outputs": []
    },
    {
      "cell_type": "code",
      "execution_count": 2,
      "metadata": {
        "colab": {
          "base_uri": "https://localhost:8080/"
        },
        "id": "-h68ggrO-MbK",
        "outputId": "95a07f7e-f22b-41e2-b9d6-412b0a0a71e5"
      },
      "outputs": [
        {
          "output_type": "stream",
          "name": "stdout",
          "text": [
            "Dataset Loaded Successfully!\n",
            "Starting Data Preprocessing...\n",
            "Data Preprocessing Completed!\n",
            "Training Classification Model...\n"
          ]
        },
        {
          "output_type": "stream",
          "name": "stderr",
          "text": [
            "<ipython-input-2-461537ed8e3a>:21: DeprecationWarning: DataFrameGroupBy.apply operated on the grouping columns. This behavior is deprecated, and in a future version of pandas the grouping columns will be excluded from the operation. Either pass `include_groups=False` to exclude the groupings or explicitly select the grouping columns after groupby to silence this warning.\n",
            "  .apply(lambda x: x.loc[x['Delay (min)'].idxmin(), 'Route']) \\\n"
          ]
        },
        {
          "output_type": "stream",
          "name": "stdout",
          "text": [
            "Classification Model Accuracy: 97.80%\n",
            "Training Regression Model...\n"
          ]
        },
        {
          "output_type": "stream",
          "name": "stderr",
          "text": [
            "<ipython-input-2-461537ed8e3a>:69: FutureWarning: A value is trying to be set on a copy of a DataFrame or Series through chained assignment using an inplace method.\n",
            "The behavior will change in pandas 3.0. This inplace method will never work because the intermediate object on which we are setting values always behaves as a copy.\n",
            "\n",
            "For example, when doing 'df[col].method(value, inplace=True)', try using 'df.method({col: value}, inplace=True)' or df[col] = df[col].method(value) instead, to perform the operation inplace on the original object.\n",
            "\n",
            "\n",
            "  df[target_regression].fillna(df[target_regression].median(), inplace=True)\n"
          ]
        },
        {
          "output_type": "stream",
          "name": "stdout",
          "text": [
            "Regression Model Mean Absolute Error: 2.53\n",
            "Model Training Completed!\n",
            "--- Final Model Performance ---\n",
            "Classification Accuracy: 97.80%\n",
            "Regression MAE: 2.53\n"
          ]
        }
      ],
      "source": [
        "import pandas as pd\n",
        "from sklearn.model_selection import train_test_split\n",
        "from sklearn.preprocessing import LabelEncoder\n",
        "from sklearn.ensemble import RandomForestClassifier, RandomForestRegressor\n",
        "from sklearn.metrics import accuracy_score, mean_absolute_error\n",
        "import numpy as np\n",
        "\n",
        "# Load Dataset\n",
        "file_path = \"bus_schedule_dataset.csv\"  # Update the path as necessary\n",
        "df = pd.read_csv(file_path)\n",
        "print(\"Dataset Loaded Successfully!\")\n",
        "\n",
        "# **Step 1: Data Preprocessing**\n",
        "print(\"Starting Data Preprocessing...\")\n",
        "\n",
        "# Convert Time to Hourly Format\n",
        "df['Hour'] = pd.to_datetime(df['Time'], format='%I:%M %p').dt.hour\n",
        "\n",
        "# Group by hour, starting point, and ending point to determine the best route\n",
        "hourly_best_routes = df.groupby(['Day', 'Hour', 'Starting_Point', 'Ending_Point']) \\\n",
        "    .apply(lambda x: x.loc[x['Delay (min)'].idxmin(), 'Route']) \\\n",
        "    .reset_index(name='Best Route')\n",
        "\n",
        "# Merge best route into the main dataset\n",
        "df = df.merge(hourly_best_routes, on=['Day', 'Hour', 'Starting_Point', 'Ending_Point'], how='left')\n",
        "\n",
        "# Encode categorical variables\n",
        "label_encoders = {}\n",
        "for col in ['Day', 'Day_Type', 'Starting_Point', 'Ending_Point', 'Weather', 'Holiday']:\n",
        "    le = LabelEncoder()\n",
        "    df[col] = le.fit_transform(df[col])\n",
        "    label_encoders[col] = le\n",
        "\n",
        "# Convert Traffic_Level to numerical values\n",
        "df['Traffic_Level'] = LabelEncoder().fit_transform(df['Traffic_Level'])\n",
        "\n",
        "# Define features and target for classification\n",
        "features_classification = ['Day', 'Hour', 'Day_Type', 'Starting_Point', 'Ending_Point', 'Traffic_Level',\n",
        "                           'Distance (km)', 'Full Trip Time(min)', 'Seat_Availability (%)', 'Historical_Peak_Delay (min)']\n",
        "target_classification = 'Best Route'\n",
        "\n",
        "# Encode the target variable (Best Route) for classification\n",
        "df[target_classification] = LabelEncoder().fit_transform(df[target_classification])\n",
        "\n",
        "print(\"Data Preprocessing Completed!\")\n",
        "\n",
        "# **Step 2: Train Classification Model**\n",
        "print(\"Training Classification Model...\")\n",
        "X_train_class, X_test_class, y_train_class, y_test_class = train_test_split(df[features_classification], df[target_classification], test_size=0.2, random_state=42)\n",
        "\n",
        "classifier = RandomForestClassifier(n_estimators=100, random_state=42)\n",
        "classifier.fit(X_train_class, y_train_class)\n",
        "\n",
        "# Predict best routes\n",
        "y_pred_class = classifier.predict(X_test_class)\n",
        "classification_accuracy = accuracy_score(y_test_class, y_pred_class)\n",
        "print(f\"Classification Model Accuracy: {classification_accuracy * 100:.2f}%\")\n",
        "\n",
        "# **Step 3: Train Regression Model**\n",
        "print(\"Training Regression Model...\")\n",
        "features_regression = ['Day', 'Hour', 'Day_Type', 'Starting_Point', 'Ending_Point', 'Traffic_Level',\n",
        "                       'Distance (km)', 'Full Trip Time(min)', 'Seat_Availability (%)', 'Historical_Peak_Delay (min)']\n",
        "target_regression = 'Route Score'\n",
        "\n",
        "# Generate a score for routes\n",
        "df[target_regression] = (-df['Delay (min)']) + (-df['Full Trip Time(min)']) + df['Seat_Availability (%)']\n",
        "\n",
        "# Handle missing values\n",
        "df[target_regression].fillna(df[target_regression].median(), inplace=True)\n",
        "\n",
        "X_train_reg, X_test_reg, y_train_reg, y_test_reg = train_test_split(df[features_regression], df[target_regression], test_size=0.2, random_state=42)\n",
        "\n",
        "regressor = RandomForestRegressor(n_estimators=100, random_state=42)\n",
        "regressor.fit(X_train_reg, y_train_reg)\n",
        "\n",
        "# Predict scores\n",
        "y_pred_reg = regressor.predict(X_test_reg)\n",
        "regression_error = mean_absolute_error(y_test_reg, y_pred_reg)\n",
        "print(f\"Regression Model Mean Absolute Error: {regression_error:.2f}\")\n",
        "\n",
        "# **Step 4: Display Results**\n",
        "print(\"Model Training Completed!\")\n",
        "print(\"--- Final Model Performance ---\")\n",
        "print(f\"Classification Accuracy: {classification_accuracy * 100:.2f}%\")\n",
        "print(f\"Regression MAE: {regression_error:.2f}\")\n"
      ]
    }
  ]
}