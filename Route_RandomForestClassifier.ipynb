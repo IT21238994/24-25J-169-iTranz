{
  "nbformat": 4,
  "nbformat_minor": 0,
  "metadata": {
    "colab": {
      "provenance": [],
      "authorship_tag": "ABX9TyOx+XpApPwg7hI1Xj/saSsr",
      "include_colab_link": true
    },
    "kernelspec": {
      "name": "python3",
      "display_name": "Python 3"
    },
    "language_info": {
      "name": "python"
    }
  },
  "cells": [
    {
      "cell_type": "markdown",
      "metadata": {
        "id": "view-in-github",
        "colab_type": "text"
      },
      "source": [
        "<a href=\"https://colab.research.google.com/github/IT21238994/24-25J-169-iTranz/blob/RouteModel_IT21298394/Route_RandomForestClassifier.ipynb\" target=\"_parent\"><img src=\"https://colab.research.google.com/assets/colab-badge.svg\" alt=\"Open In Colab\"/></a>"
      ]
    },
    {
      "cell_type": "code",
      "execution_count": 26,
      "metadata": {
        "colab": {
          "base_uri": "https://localhost:8080/"
        },
        "id": "CawVX0AiVt8V",
        "outputId": "f02a9b13-4f4b-4e67-f220-5b722b46e07c"
      },
      "outputs": [
        {
          "output_type": "stream",
          "name": "stdout",
          "text": [
            "Requirement already satisfied: lightgbm in /usr/local/lib/python3.10/dist-packages (4.5.0)\n",
            "Requirement already satisfied: shap in /usr/local/lib/python3.10/dist-packages (0.46.0)\n",
            "Requirement already satisfied: imbalanced-learn in /usr/local/lib/python3.10/dist-packages (0.12.4)\n",
            "Requirement already satisfied: numpy>=1.17.0 in /usr/local/lib/python3.10/dist-packages (from lightgbm) (1.26.4)\n",
            "Requirement already satisfied: scipy in /usr/local/lib/python3.10/dist-packages (from lightgbm) (1.13.1)\n",
            "Requirement already satisfied: scikit-learn in /usr/local/lib/python3.10/dist-packages (from shap) (1.5.2)\n",
            "Requirement already satisfied: pandas in /usr/local/lib/python3.10/dist-packages (from shap) (2.2.2)\n",
            "Requirement already satisfied: tqdm>=4.27.0 in /usr/local/lib/python3.10/dist-packages (from shap) (4.66.6)\n",
            "Requirement already satisfied: packaging>20.9 in /usr/local/lib/python3.10/dist-packages (from shap) (24.2)\n",
            "Requirement already satisfied: slicer==0.0.8 in /usr/local/lib/python3.10/dist-packages (from shap) (0.0.8)\n",
            "Requirement already satisfied: numba in /usr/local/lib/python3.10/dist-packages (from shap) (0.60.0)\n",
            "Requirement already satisfied: cloudpickle in /usr/local/lib/python3.10/dist-packages (from shap) (3.1.0)\n",
            "Requirement already satisfied: joblib>=1.1.1 in /usr/local/lib/python3.10/dist-packages (from imbalanced-learn) (1.4.2)\n",
            "Requirement already satisfied: threadpoolctl>=2.0.0 in /usr/local/lib/python3.10/dist-packages (from imbalanced-learn) (3.5.0)\n",
            "Requirement already satisfied: llvmlite<0.44,>=0.43.0dev0 in /usr/local/lib/python3.10/dist-packages (from numba->shap) (0.43.0)\n",
            "Requirement already satisfied: python-dateutil>=2.8.2 in /usr/local/lib/python3.10/dist-packages (from pandas->shap) (2.8.2)\n",
            "Requirement already satisfied: pytz>=2020.1 in /usr/local/lib/python3.10/dist-packages (from pandas->shap) (2024.2)\n",
            "Requirement already satisfied: tzdata>=2022.7 in /usr/local/lib/python3.10/dist-packages (from pandas->shap) (2024.2)\n",
            "Requirement already satisfied: six>=1.5 in /usr/local/lib/python3.10/dist-packages (from python-dateutil>=2.8.2->pandas->shap) (1.16.0)\n",
            "Requirement already satisfied: dask[dataframe] in /usr/local/lib/python3.10/dist-packages (2024.10.0)\n",
            "Requirement already satisfied: click>=8.1 in /usr/local/lib/python3.10/dist-packages (from dask[dataframe]) (8.1.7)\n",
            "Requirement already satisfied: cloudpickle>=3.0.0 in /usr/local/lib/python3.10/dist-packages (from dask[dataframe]) (3.1.0)\n",
            "Requirement already satisfied: fsspec>=2021.09.0 in /usr/local/lib/python3.10/dist-packages (from dask[dataframe]) (2024.10.0)\n",
            "Requirement already satisfied: packaging>=20.0 in /usr/local/lib/python3.10/dist-packages (from dask[dataframe]) (24.2)\n",
            "Requirement already satisfied: partd>=1.4.0 in /usr/local/lib/python3.10/dist-packages (from dask[dataframe]) (1.4.2)\n",
            "Requirement already satisfied: pyyaml>=5.3.1 in /usr/local/lib/python3.10/dist-packages (from dask[dataframe]) (6.0.2)\n",
            "Requirement already satisfied: toolz>=0.10.0 in /usr/local/lib/python3.10/dist-packages (from dask[dataframe]) (0.12.1)\n",
            "Requirement already satisfied: importlib-metadata>=4.13.0 in /usr/local/lib/python3.10/dist-packages (from dask[dataframe]) (8.5.0)\n",
            "Requirement already satisfied: pandas>=2.0 in /usr/local/lib/python3.10/dist-packages (from dask[dataframe]) (2.2.2)\n",
            "Requirement already satisfied: dask-expr<1.2,>=1.1 in /usr/local/lib/python3.10/dist-packages (from dask[dataframe]) (1.1.16)\n",
            "Requirement already satisfied: pyarrow>=14.0.1 in /usr/local/lib/python3.10/dist-packages (from dask-expr<1.2,>=1.1->dask[dataframe]) (17.0.0)\n",
            "Requirement already satisfied: zipp>=3.20 in /usr/local/lib/python3.10/dist-packages (from importlib-metadata>=4.13.0->dask[dataframe]) (3.21.0)\n",
            "Requirement already satisfied: numpy>=1.22.4 in /usr/local/lib/python3.10/dist-packages (from pandas>=2.0->dask[dataframe]) (1.26.4)\n",
            "Requirement already satisfied: python-dateutil>=2.8.2 in /usr/local/lib/python3.10/dist-packages (from pandas>=2.0->dask[dataframe]) (2.8.2)\n",
            "Requirement already satisfied: pytz>=2020.1 in /usr/local/lib/python3.10/dist-packages (from pandas>=2.0->dask[dataframe]) (2024.2)\n",
            "Requirement already satisfied: tzdata>=2022.7 in /usr/local/lib/python3.10/dist-packages (from pandas>=2.0->dask[dataframe]) (2024.2)\n",
            "Requirement already satisfied: locket in /usr/local/lib/python3.10/dist-packages (from partd>=1.4.0->dask[dataframe]) (1.0.0)\n",
            "Requirement already satisfied: six>=1.5 in /usr/local/lib/python3.10/dist-packages (from python-dateutil>=2.8.2->pandas>=2.0->dask[dataframe]) (1.16.0)\n"
          ]
        }
      ],
      "source": [
        "# Install required libraries\n",
        "!pip install lightgbm shap imbalanced-learn\n",
        "!pip install dask[dataframe]\n",
        "\n",
        "# Import libraries\n",
        "import pandas as pd\n",
        "import numpy as np\n",
        "import lightgbm as lgb\n",
        "import shap\n",
        "import matplotlib.pyplot as plt\n",
        "import seaborn as sns\n",
        "from sklearn.model_selection import train_test_split, GridSearchCV, StratifiedKFold\n",
        "from sklearn.preprocessing import LabelEncoder, StandardScaler\n",
        "from sklearn.metrics import classification_report, accuracy_score, roc_auc_score, confusion_matrix\n",
        "from imblearn.over_sampling import SMOTE\n",
        "import warnings\n",
        "warnings.filterwarnings('ignore')\n",
        "\n",
        "# Set plot styles\n",
        "sns.set(style='whitegrid', palette='muted', font_scale=1.2)"
      ]
    },
    {
      "cell_type": "code",
      "source": [
        "# Upload the dataset to Colab\n",
        "from google.colab import files\n",
        "uploaded = files.upload()\n"
      ],
      "metadata": {
        "colab": {
          "base_uri": "https://localhost:8080/",
          "height": 73
        },
        "id": "WjkigjBUWM1n",
        "outputId": "b93c9095-4de5-402c-8f25-a9bfe4563aba"
      },
      "execution_count": 28,
      "outputs": [
        {
          "output_type": "display_data",
          "data": {
            "text/plain": [
              "<IPython.core.display.HTML object>"
            ],
            "text/html": [
              "\n",
              "     <input type=\"file\" id=\"files-79375769-618d-496a-9a52-5d254180158b\" name=\"files[]\" multiple disabled\n",
              "        style=\"border:none\" />\n",
              "     <output id=\"result-79375769-618d-496a-9a52-5d254180158b\">\n",
              "      Upload widget is only available when the cell has been executed in the\n",
              "      current browser session. Please rerun this cell to enable.\n",
              "      </output>\n",
              "      <script>// Copyright 2017 Google LLC\n",
              "//\n",
              "// Licensed under the Apache License, Version 2.0 (the \"License\");\n",
              "// you may not use this file except in compliance with the License.\n",
              "// You may obtain a copy of the License at\n",
              "//\n",
              "//      http://www.apache.org/licenses/LICENSE-2.0\n",
              "//\n",
              "// Unless required by applicable law or agreed to in writing, software\n",
              "// distributed under the License is distributed on an \"AS IS\" BASIS,\n",
              "// WITHOUT WARRANTIES OR CONDITIONS OF ANY KIND, either express or implied.\n",
              "// See the License for the specific language governing permissions and\n",
              "// limitations under the License.\n",
              "\n",
              "/**\n",
              " * @fileoverview Helpers for google.colab Python module.\n",
              " */\n",
              "(function(scope) {\n",
              "function span(text, styleAttributes = {}) {\n",
              "  const element = document.createElement('span');\n",
              "  element.textContent = text;\n",
              "  for (const key of Object.keys(styleAttributes)) {\n",
              "    element.style[key] = styleAttributes[key];\n",
              "  }\n",
              "  return element;\n",
              "}\n",
              "\n",
              "// Max number of bytes which will be uploaded at a time.\n",
              "const MAX_PAYLOAD_SIZE = 100 * 1024;\n",
              "\n",
              "function _uploadFiles(inputId, outputId) {\n",
              "  const steps = uploadFilesStep(inputId, outputId);\n",
              "  const outputElement = document.getElementById(outputId);\n",
              "  // Cache steps on the outputElement to make it available for the next call\n",
              "  // to uploadFilesContinue from Python.\n",
              "  outputElement.steps = steps;\n",
              "\n",
              "  return _uploadFilesContinue(outputId);\n",
              "}\n",
              "\n",
              "// This is roughly an async generator (not supported in the browser yet),\n",
              "// where there are multiple asynchronous steps and the Python side is going\n",
              "// to poll for completion of each step.\n",
              "// This uses a Promise to block the python side on completion of each step,\n",
              "// then passes the result of the previous step as the input to the next step.\n",
              "function _uploadFilesContinue(outputId) {\n",
              "  const outputElement = document.getElementById(outputId);\n",
              "  const steps = outputElement.steps;\n",
              "\n",
              "  const next = steps.next(outputElement.lastPromiseValue);\n",
              "  return Promise.resolve(next.value.promise).then((value) => {\n",
              "    // Cache the last promise value to make it available to the next\n",
              "    // step of the generator.\n",
              "    outputElement.lastPromiseValue = value;\n",
              "    return next.value.response;\n",
              "  });\n",
              "}\n",
              "\n",
              "/**\n",
              " * Generator function which is called between each async step of the upload\n",
              " * process.\n",
              " * @param {string} inputId Element ID of the input file picker element.\n",
              " * @param {string} outputId Element ID of the output display.\n",
              " * @return {!Iterable<!Object>} Iterable of next steps.\n",
              " */\n",
              "function* uploadFilesStep(inputId, outputId) {\n",
              "  const inputElement = document.getElementById(inputId);\n",
              "  inputElement.disabled = false;\n",
              "\n",
              "  const outputElement = document.getElementById(outputId);\n",
              "  outputElement.innerHTML = '';\n",
              "\n",
              "  const pickedPromise = new Promise((resolve) => {\n",
              "    inputElement.addEventListener('change', (e) => {\n",
              "      resolve(e.target.files);\n",
              "    });\n",
              "  });\n",
              "\n",
              "  const cancel = document.createElement('button');\n",
              "  inputElement.parentElement.appendChild(cancel);\n",
              "  cancel.textContent = 'Cancel upload';\n",
              "  const cancelPromise = new Promise((resolve) => {\n",
              "    cancel.onclick = () => {\n",
              "      resolve(null);\n",
              "    };\n",
              "  });\n",
              "\n",
              "  // Wait for the user to pick the files.\n",
              "  const files = yield {\n",
              "    promise: Promise.race([pickedPromise, cancelPromise]),\n",
              "    response: {\n",
              "      action: 'starting',\n",
              "    }\n",
              "  };\n",
              "\n",
              "  cancel.remove();\n",
              "\n",
              "  // Disable the input element since further picks are not allowed.\n",
              "  inputElement.disabled = true;\n",
              "\n",
              "  if (!files) {\n",
              "    return {\n",
              "      response: {\n",
              "        action: 'complete',\n",
              "      }\n",
              "    };\n",
              "  }\n",
              "\n",
              "  for (const file of files) {\n",
              "    const li = document.createElement('li');\n",
              "    li.append(span(file.name, {fontWeight: 'bold'}));\n",
              "    li.append(span(\n",
              "        `(${file.type || 'n/a'}) - ${file.size} bytes, ` +\n",
              "        `last modified: ${\n",
              "            file.lastModifiedDate ? file.lastModifiedDate.toLocaleDateString() :\n",
              "                                    'n/a'} - `));\n",
              "    const percent = span('0% done');\n",
              "    li.appendChild(percent);\n",
              "\n",
              "    outputElement.appendChild(li);\n",
              "\n",
              "    const fileDataPromise = new Promise((resolve) => {\n",
              "      const reader = new FileReader();\n",
              "      reader.onload = (e) => {\n",
              "        resolve(e.target.result);\n",
              "      };\n",
              "      reader.readAsArrayBuffer(file);\n",
              "    });\n",
              "    // Wait for the data to be ready.\n",
              "    let fileData = yield {\n",
              "      promise: fileDataPromise,\n",
              "      response: {\n",
              "        action: 'continue',\n",
              "      }\n",
              "    };\n",
              "\n",
              "    // Use a chunked sending to avoid message size limits. See b/62115660.\n",
              "    let position = 0;\n",
              "    do {\n",
              "      const length = Math.min(fileData.byteLength - position, MAX_PAYLOAD_SIZE);\n",
              "      const chunk = new Uint8Array(fileData, position, length);\n",
              "      position += length;\n",
              "\n",
              "      const base64 = btoa(String.fromCharCode.apply(null, chunk));\n",
              "      yield {\n",
              "        response: {\n",
              "          action: 'append',\n",
              "          file: file.name,\n",
              "          data: base64,\n",
              "        },\n",
              "      };\n",
              "\n",
              "      let percentDone = fileData.byteLength === 0 ?\n",
              "          100 :\n",
              "          Math.round((position / fileData.byteLength) * 100);\n",
              "      percent.textContent = `${percentDone}% done`;\n",
              "\n",
              "    } while (position < fileData.byteLength);\n",
              "  }\n",
              "\n",
              "  // All done.\n",
              "  yield {\n",
              "    response: {\n",
              "      action: 'complete',\n",
              "    }\n",
              "  };\n",
              "}\n",
              "\n",
              "scope.google = scope.google || {};\n",
              "scope.google.colab = scope.google.colab || {};\n",
              "scope.google.colab._files = {\n",
              "  _uploadFiles,\n",
              "  _uploadFilesContinue,\n",
              "};\n",
              "})(self);\n",
              "</script> "
            ]
          },
          "metadata": {}
        },
        {
          "output_type": "stream",
          "name": "stdout",
          "text": [
            "Saving bus_schedule_sept_nov_2024.csv to bus_schedule_sept_nov_2024.csv\n"
          ]
        }
      ]
    },
    {
      "cell_type": "code",
      "source": [
        "# Load the dataset\n",
        "file_path = 'bus_schedule_sept_nov_2024.csv'  # Ensure this matches your uploaded file name\n",
        "df = pd.read_csv(file_path)\n",
        "\n",
        "# Display the first few rows\n",
        "print(\"First 5 rows of the dataset:\")\n",
        "print(df.head())\n",
        "\n",
        "# Display dataset information\n",
        "print(\"\\nDataset Information:\")\n",
        "print(df.info())\n",
        "\n",
        "# Display summary statistics\n",
        "print(\"\\nSummary Statistics:\")\n",
        "print(df.describe())\n"
      ],
      "metadata": {
        "colab": {
          "base_uri": "https://localhost:8080/"
        },
        "id": "Ca2SCmLKglTK",
        "outputId": "e91f4b4b-aa11-4051-f724-bed98ec24480"
      },
      "execution_count": 29,
      "outputs": [
        {
          "output_type": "stream",
          "name": "stdout",
          "text": [
            "First 5 rows of the dataset:\n",
            "         Date     Day     Time  Route Traffic_Level  Delay (min)  \\\n",
            "0  01.09.2024  Sunday  8:00 AM    380        Medium            1   \n",
            "1  01.09.2024  Sunday  4:40 PM    380           Low            0   \n",
            "2  01.09.2024  Sunday  5:30 PM    356           Low            1   \n",
            "3  01.09.2024  Sunday  3:10 PM    356           Low            1   \n",
            "4  01.09.2024  Sunday  9:20 AM    380           Low            0   \n",
            "\n",
            "   Distance (km)  Full Trip Time(min)  Average Speed (kmph)  \\\n",
            "0           10.9                   28                  31.4   \n",
            "1           10.9                   28                  31.4   \n",
            "2            9.2                   21                  32.5   \n",
            "3            9.2                   21                  32.5   \n",
            "4           10.9                   28                  31.4   \n",
            "\n",
            "   Average Bus Stop Time(min)  Fare (LKR)  Seat_Availability (%)  \\\n",
            "0                         2.5          77                     41   \n",
            "1                         2.5          77                     59   \n",
            "2                         2.3          66                     58   \n",
            "3                         2.3          66                     41   \n",
            "4                         2.5          77                     44   \n",
            "\n",
            "   Historical_Peak_Delay (min)  \n",
            "0                            1  \n",
            "1                            0  \n",
            "2                            0  \n",
            "3                            0  \n",
            "4                            0  \n",
            "\n",
            "Dataset Information:\n",
            "<class 'pandas.core.frame.DataFrame'>\n",
            "RangeIndex: 3926 entries, 0 to 3925\n",
            "Data columns (total 13 columns):\n",
            " #   Column                       Non-Null Count  Dtype  \n",
            "---  ------                       --------------  -----  \n",
            " 0   Date                         3926 non-null   object \n",
            " 1   Day                          3926 non-null   object \n",
            " 2   Time                         3926 non-null   object \n",
            " 3   Route                        3926 non-null   int64  \n",
            " 4   Traffic_Level                3926 non-null   object \n",
            " 5   Delay (min)                  3926 non-null   int64  \n",
            " 6   Distance (km)                3926 non-null   float64\n",
            " 7   Full Trip Time(min)          3926 non-null   int64  \n",
            " 8   Average Speed (kmph)         3926 non-null   float64\n",
            " 9   Average Bus Stop Time(min)   3926 non-null   float64\n",
            " 10  Fare (LKR)                   3926 non-null   int64  \n",
            " 11  Seat_Availability (%)        3926 non-null   int64  \n",
            " 12  Historical_Peak_Delay (min)  3926 non-null   int64  \n",
            "dtypes: float64(3), int64(6), object(4)\n",
            "memory usage: 398.9+ KB\n",
            "None\n",
            "\n",
            "Summary Statistics:\n",
            "             Route  Delay (min)  Distance (km)  Full Trip Time(min)  \\\n",
            "count  3926.000000  3926.000000    3926.000000          3926.000000   \n",
            "mean    366.966887     6.073612       9.976821            24.198675   \n",
            "std      11.956968     7.387573       0.846952             3.487449   \n",
            "min     356.000000     0.000000       9.200000            21.000000   \n",
            "25%     356.000000     1.000000       9.200000            21.000000   \n",
            "50%     356.000000     2.000000       9.200000            21.000000   \n",
            "75%     380.000000    11.000000      10.900000            28.000000   \n",
            "max     380.000000    30.000000      10.900000            28.000000   \n",
            "\n",
            "       Average Speed (kmph)  Average Bus Stop Time(min)   Fare (LKR)  \\\n",
            "count           3926.000000                 3926.000000  3926.000000   \n",
            "mean              31.997351                    2.391391    71.026490   \n",
            "std                0.548028                    0.099641     5.480277   \n",
            "min               31.400000                    2.300000    66.000000   \n",
            "25%               31.400000                    2.300000    66.000000   \n",
            "50%               32.500000                    2.300000    66.000000   \n",
            "75%               32.500000                    2.500000    77.000000   \n",
            "max               32.500000                    2.500000    77.000000   \n",
            "\n",
            "       Seat_Availability (%)  Historical_Peak_Delay (min)  \n",
            "count            3926.000000                  3926.000000  \n",
            "mean               34.245797                     5.219562  \n",
            "std                21.562977                     7.563788  \n",
            "min                 0.000000                     0.000000  \n",
            "25%                 9.000000                     0.000000  \n",
            "50%                44.000000                     0.000000  \n",
            "75%                52.000000                    11.000000  \n",
            "max                70.000000                    30.000000  \n"
          ]
        }
      ]
    },
    {
      "cell_type": "code",
      "source": [
        "# Check for missing values\n",
        "print(\"Missing Values in Each Column:\")\n",
        "print(df.isnull().sum())\n",
        "\n",
        "# If there are missing values, decide on an imputation strategy\n",
        "# For demonstration, we'll fill numerical columns with median and categorical with mode\n",
        "\n",
        "numerical_cols = ['Delay (min)', 'Distance (km)', 'Full Trip Time(min)',\n",
        "                  'Average Speed (kmph)', 'Average Bus Stop Time(min)',\n",
        "                  'Fare (LKR)', 'Seat_Availability (%)',\n",
        "                  'Historical_Peak_Delay (min)']\n",
        "\n",
        "categorical_cols = ['Traffic_Level', 'Day', 'Route']\n",
        "\n",
        "# Fill numerical columns with median\n",
        "for col in numerical_cols:\n",
        "    df[col].fillna(df[col].median(), inplace=True)\n",
        "\n",
        "# Fill categorical columns with mode\n",
        "for col in categorical_cols:\n",
        "    df[col].fillna(df[col].mode()[0], inplace=True)\n",
        "\n",
        "# Verify again\n",
        "print(\"\\nMissing Values After Imputation:\")\n",
        "print(df.isnull().sum())\n"
      ],
      "metadata": {
        "colab": {
          "base_uri": "https://localhost:8080/"
        },
        "id": "BIEhZafZWU_-",
        "outputId": "9a848bf2-98f5-427c-a567-09e7c603876c"
      },
      "execution_count": 30,
      "outputs": [
        {
          "output_type": "stream",
          "name": "stdout",
          "text": [
            "Missing Values in Each Column:\n",
            "Date                           0\n",
            "Day                            0\n",
            "Time                           0\n",
            "Route                          0\n",
            "Traffic_Level                  0\n",
            "Delay (min)                    0\n",
            "Distance (km)                  0\n",
            "Full Trip Time(min)            0\n",
            "Average Speed (kmph)           0\n",
            "Average Bus Stop Time(min)     0\n",
            "Fare (LKR)                     0\n",
            "Seat_Availability (%)          0\n",
            "Historical_Peak_Delay (min)    0\n",
            "dtype: int64\n",
            "\n",
            "Missing Values After Imputation:\n",
            "Date                           0\n",
            "Day                            0\n",
            "Time                           0\n",
            "Route                          0\n",
            "Traffic_Level                  0\n",
            "Delay (min)                    0\n",
            "Distance (km)                  0\n",
            "Full Trip Time(min)            0\n",
            "Average Speed (kmph)           0\n",
            "Average Bus Stop Time(min)     0\n",
            "Fare (LKR)                     0\n",
            "Seat_Availability (%)          0\n",
            "Historical_Peak_Delay (min)    0\n",
            "dtype: int64\n"
          ]
        }
      ]
    },
    {
      "cell_type": "code",
      "source": [
        "# Convert categorical variables to string type if not already\n",
        "for col in ['Traffic_Level', 'Day', 'Route']:\n",
        "    df[col] = df[col].astype(str)\n"
      ],
      "metadata": {
        "id": "FZx8CoK4Wix_"
      },
      "execution_count": 31,
      "outputs": []
    },
    {
      "cell_type": "code",
      "source": [
        "# Label encoding for categorical features\n",
        "le_traffic = LabelEncoder()\n",
        "le_day = LabelEncoder()\n",
        "le_route = LabelEncoder()\n",
        "\n",
        "df['Traffic_Level_Encoded'] = le_traffic.fit_transform(df['Traffic_Level'])\n",
        "df['Day_Encoded'] = le_day.fit_transform(df['Day'])\n",
        "df['Route_Encoded'] = le_route.fit_transform(df['Route'])\n",
        "\n",
        "print(\"\\nLabel Encoding completed for 'Traffic_Level', 'Day', and 'Route'.\")\n"
      ],
      "metadata": {
        "colab": {
          "base_uri": "https://localhost:8080/"
        },
        "id": "6nrGUu8QWlST",
        "outputId": "13fe63b7-9255-4c67-9474-3f4df606eeb8"
      },
      "execution_count": 32,
      "outputs": [
        {
          "output_type": "stream",
          "name": "stdout",
          "text": [
            "\n",
            "Label Encoding completed for 'Traffic_Level', 'Day', and 'Route'.\n"
          ]
        }
      ]
    },
    {
      "cell_type": "code",
      "source": [
        "# Extract hour and minute from Time\n",
        "def extract_time_features(time_str):\n",
        "    try:\n",
        "        time_obj = pd.to_datetime(time_str, format='%I:%M %p')\n",
        "        return time_obj.hour, time_obj.minute\n",
        "    except:\n",
        "        return 12, 0  # Default to noon if parsing fails\n",
        "\n",
        "df[['Hour', 'Minute']] = df['Time'].apply(lambda x: pd.Series(extract_time_features(x)))\n",
        "\n",
        "# Represent Hour cyclically\n",
        "df['Hour_Sin'] = np.sin(2 * np.pi * df['Hour']/24)\n",
        "df['Hour_Cos'] = np.cos(2 * np.pi * df['Hour']/24)\n",
        "\n",
        "# Represent Minute cyclically\n",
        "df['Minute_Sin'] = np.sin(2 * np.pi * df['Minute']/60)\n",
        "df['Minute_Cos'] = np.cos(2 * np.pi * df['Minute']/60)\n",
        "\n",
        "print(\"\\nTemporal features extracted and cyclic representations created.\")\n"
      ],
      "metadata": {
        "colab": {
          "base_uri": "https://localhost:8080/"
        },
        "id": "u9mQaFYtWoEc",
        "outputId": "5819ea1b-b19d-4c77-c579-4f086d54242a"
      },
      "execution_count": 33,
      "outputs": [
        {
          "output_type": "stream",
          "name": "stdout",
          "text": [
            "\n",
            "Temporal features extracted and cyclic representations created.\n"
          ]
        }
      ]
    },
    {
      "cell_type": "code",
      "source": [
        "# Interaction between Delay and Fare\n",
        "df['Delay_Fare_Interaction'] = df['Delay (min)'] * df['Fare (LKR)']\n",
        "\n",
        "# Interaction between Seat Availability and Fare\n",
        "df['Seat_Fare_Interaction'] = df['Seat_Availability (%)'] * df['Fare (LKR)']\n",
        "\n",
        "print(\"\\nInteraction features created.\")\n"
      ],
      "metadata": {
        "colab": {
          "base_uri": "https://localhost:8080/"
        },
        "id": "gT_d2XIRg4MR",
        "outputId": "3d7d8af4-7769-4478-d83b-1a0d75c5908c"
      },
      "execution_count": 34,
      "outputs": [
        {
          "output_type": "stream",
          "name": "stdout",
          "text": [
            "\n",
            "Interaction features created.\n"
          ]
        }
      ]
    },
    {
      "cell_type": "code",
      "source": [
        "# Square of Delay\n",
        "df['Delay_Squared'] = df['Delay (min)'] ** 2\n",
        "\n",
        "# Log transformation of Fare to reduce skewness\n",
        "df['Fare_Log'] = np.log1p(df['Fare (LKR)'])\n",
        "\n",
        "print(\"\\nNon-linear features created.\")\n"
      ],
      "metadata": {
        "colab": {
          "base_uri": "https://localhost:8080/"
        },
        "id": "LklQuBCBg65V",
        "outputId": "44b680e6-7a21-44ab-af1c-35df7f40d05d"
      },
      "execution_count": 35,
      "outputs": [
        {
          "output_type": "stream",
          "name": "stdout",
          "text": [
            "\n",
            "Non-linear features created.\n"
          ]
        }
      ]
    },
    {
      "cell_type": "code",
      "source": [
        "# Check if 'User_ID' exists; if not, create it\n",
        "if 'User_ID' not in df.columns:\n",
        "    np.random.seed(42)  # For reproducibility\n",
        "    num_unique_users = 500  # Adjust based on your data\n",
        "    df['User_ID'] = np.random.randint(1, num_unique_users + 1, size=len(df))\n",
        "    print(\"\\nSynthetic 'User_ID' column created.\")\n",
        "else:\n",
        "    print(\"\\n'User_ID' column already exists.\")\n"
      ],
      "metadata": {
        "colab": {
          "base_uri": "https://localhost:8080/"
        },
        "id": "w8uzKLZY_r5J",
        "outputId": "3ef848be-ef48-4607-fab4-549ac945d31a"
      },
      "execution_count": 36,
      "outputs": [
        {
          "output_type": "stream",
          "name": "stdout",
          "text": [
            "\n",
            "Synthetic 'User_ID' column created.\n"
          ]
        }
      ]
    },
    {
      "cell_type": "code",
      "source": [
        "# Convert 'Date' to datetime format and create 'Date_dt'\n",
        "df['Date_dt'] = pd.to_datetime(df['Date'], format='%d.%m.%Y')\n",
        "print(\"\\n'Date_dt' column created from 'Date'.\")\n"
      ],
      "metadata": {
        "colab": {
          "base_uri": "https://localhost:8080/"
        },
        "id": "mmbGxRxzE6Zj",
        "outputId": "32f8eb2c-445e-4f32-cfab-c25ad0417852"
      },
      "execution_count": 38,
      "outputs": [
        {
          "output_type": "stream",
          "name": "stdout",
          "text": [
            "\n",
            "'Date_dt' column created from 'Date'.\n"
          ]
        }
      ]
    },
    {
      "cell_type": "code",
      "source": [
        "# Define weights for each factor\n",
        "weight_delay = -0.4  # Negative weight as lower delay is better\n",
        "weight_fare = -0.3   # Negative weight as lower fare is better\n",
        "weight_seat = 0.3    # Positive weight as higher seat availability is better\n",
        "\n",
        "# Create a composite score\n",
        "df['Route_Score'] = (weight_delay * df['Delay (min)'] +\n",
        "                     weight_fare * df['Fare (LKR)'] +\n",
        "                     weight_seat * df['Seat_Availability (%)'])\n",
        "\n",
        "# Normalize Route_Score\n",
        "df['Route_Score_Normalized'] = (df['Route_Score'] - df['Route_Score'].min()) / (df['Route_Score'].max() - df['Route_Score'].min())\n",
        "\n",
        "# Define the best route as the one with the highest score per journey (Date_dt, Time, User_ID)\n",
        "df['Best_Route'] = df.groupby(['Date_dt', 'Time', 'User_ID'])['Route_Score_Normalized'].transform(lambda x: (x == x.max()).astype(int))\n",
        "\n",
        "print(\"\\n'Best_Route' column defined based on the highest 'Route_Score_Normalized' per journey.\")\n"
      ],
      "metadata": {
        "colab": {
          "base_uri": "https://localhost:8080/"
        },
        "id": "oa9wgSOMhjyt",
        "outputId": "969eca65-16c0-4c30-9a47-42d200ce5d21"
      },
      "execution_count": 39,
      "outputs": [
        {
          "output_type": "stream",
          "name": "stdout",
          "text": [
            "\n",
            "'Best_Route' column defined based on the highest 'Route_Score_Normalized' per journey.\n"
          ]
        }
      ]
    },
    {
      "cell_type": "code",
      "source": [
        "# Display the first few rows to verify 'Best_Route'\n",
        "print(\"\\nSample 'Best_Route' values:\")\n",
        "print(df[['Date_dt', 'Time', 'User_ID', 'Route', 'Route_Score_Normalized', 'Best_Route']].head(10))\n",
        "\n",
        "# Check if any group has zero Best_Route\n",
        "group_counts = df.groupby(['Date_dt', 'Time', 'User_ID'])['Best_Route'].sum()\n",
        "zero_best_routes = (group_counts == 0).sum()\n",
        "print(f'\\nNumber of groups with zero Best_Route: {zero_best_routes}')\n"
      ],
      "metadata": {
        "colab": {
          "base_uri": "https://localhost:8080/"
        },
        "id": "0OruPeRahsIT",
        "outputId": "1f361a22-1c5a-415b-9668-1a9169ec90ab"
      },
      "execution_count": 40,
      "outputs": [
        {
          "output_type": "stream",
          "name": "stdout",
          "text": [
            "\n",
            "Sample 'Best_Route' values:\n",
            "     Date_dt      Time  User_ID Route  Route_Score_Normalized  Best_Route\n",
            "0 2024-09-01   8:00 AM      103   380                0.717718           1\n",
            "1 2024-09-01   4:40 PM      436   380                0.891892           1\n",
            "2 2024-09-01   5:30 PM      349   356                0.969970           1\n",
            "3 2024-09-01   3:10 PM      271   356                0.816817           1\n",
            "4 2024-09-01   9:20 AM      107   380                0.756757           1\n",
            "5 2024-09-01  12:50 PM       72   356                0.684685           1\n",
            "6 2024-09-01  11:20 AM      189   380                0.759760           1\n",
            "7 2024-09-01  11:40 AM       21   356                0.972973           1\n",
            "8 2024-09-01   3:20 PM      103   380                0.855856           1\n",
            "9 2024-09-01  10:00 AM      122   380                0.879880           1\n",
            "\n",
            "Number of groups with zero Best_Route: 0\n"
          ]
        }
      ]
    },
    {
      "cell_type": "markdown",
      "source": [],
      "metadata": {
        "id": "mRsqCjMghukD"
      }
    },
    {
      "cell_type": "code",
      "source": [
        "# Define feature columns (exclude 'Best_Route')\n",
        "feature_cols = [\n",
        "    'Traffic_Level_Encoded', 'Day_Encoded', 'Route_Encoded', 'Hour_Sin', 'Hour_Cos',\n",
        "    'Minute_Sin', 'Minute_Cos', 'Delay (min)', 'Distance (km)', 'Full Trip Time(min)',\n",
        "    'Average Speed (kmph)', 'Average Bus Stop Time(min)', 'Fare (LKR)',\n",
        "    'Seat_Availability (%)', 'Historical_Peak_Delay (min)', 'Hour',\n",
        "    'Delay_Fare_Interaction', 'Seat_Fare_Interaction', 'Delay_Squared',\n",
        "    'Fare_Log'\n",
        "]\n",
        "\n",
        "# Define features (X) and target (y)\n",
        "X = df[feature_cols]\n",
        "y = df['Best_Route']\n",
        "\n",
        "print(\"\\nFeature columns and target variable defined.\")\n"
      ],
      "metadata": {
        "colab": {
          "base_uri": "https://localhost:8080/"
        },
        "id": "r7fmRytaht_j",
        "outputId": "b5dd5a74-e44a-4664-883d-ad23aa94b109"
      },
      "execution_count": 41,
      "outputs": [
        {
          "output_type": "stream",
          "name": "stdout",
          "text": [
            "\n",
            "Feature columns and target variable defined.\n"
          ]
        }
      ]
    },
    {
      "cell_type": "markdown",
      "source": [],
      "metadata": {
        "id": "Ru-k1MfQh85a"
      }
    },
    {
      "cell_type": "code",
      "source": [
        "# Initialize StandardScaler\n",
        "scaler = StandardScaler()\n",
        "\n",
        "# List of numerical features to scale\n",
        "numerical_features = ['Delay (min)', 'Distance (km)', 'Seat_Availability (%)',\n",
        "                      'Historical_Peak_Delay (min)', 'Fare (LKR)',\n",
        "                      'Delay_Fare_Interaction', 'Seat_Fare_Interaction',\n",
        "                      'Delay_Squared', 'Fare_Log']\n",
        "\n",
        "# Apply scaling\n",
        "X[numerical_features] = scaler.fit_transform(X[numerical_features])\n",
        "\n",
        "print(\"\\nFeature scaling applied to numerical features.\")\n"
      ],
      "metadata": {
        "colab": {
          "base_uri": "https://localhost:8080/"
        },
        "id": "-7dq2DWSh78d",
        "outputId": "eba555cb-0ef0-42dc-9776-0ce6345c8a67"
      },
      "execution_count": 42,
      "outputs": [
        {
          "output_type": "stream",
          "name": "stdout",
          "text": [
            "\n",
            "Feature scaling applied to numerical features.\n"
          ]
        }
      ]
    },
    {
      "cell_type": "code",
      "source": [
        "# Split the data into training and testing sets with stratification\n",
        "X_train, X_test, y_train, y_test = train_test_split(\n",
        "    X, y, test_size=0.2, random_state=42, stratify=y\n",
        ")\n",
        "\n",
        "print(\"\\nData split into training and testing sets.\")\n",
        "print(f\"Training set size: {X_train.shape[0]} samples\")\n",
        "print(f\"Testing set size: {X_test.shape[0]} samples\")\n"
      ],
      "metadata": {
        "colab": {
          "base_uri": "https://localhost:8080/"
        },
        "id": "jIrZTZswh_CP",
        "outputId": "23c7eed9-71da-4c20-8a9b-5e408c61ca85"
      },
      "execution_count": 43,
      "outputs": [
        {
          "output_type": "stream",
          "name": "stdout",
          "text": [
            "\n",
            "Data split into training and testing sets.\n",
            "Training set size: 3140 samples\n",
            "Testing set size: 786 samples\n"
          ]
        }
      ]
    },
    {
      "cell_type": "code",
      "source": [
        "# Check class distribution in the entire dataset\n",
        "print(\"\\nClass Distribution in Entire Dataset:\")\n",
        "print(y.value_counts())\n",
        "\n",
        "# Plot class distribution\n",
        "sns.countplot(y)\n",
        "plt.title('Class Distribution for Best_Route')\n",
        "plt.xlabel('Best_Route')\n",
        "plt.ylabel('Count')\n",
        "plt.show()\n"
      ],
      "metadata": {
        "colab": {
          "base_uri": "https://localhost:8080/",
          "height": 572
        },
        "id": "hKJkC3p3JwHB",
        "outputId": "334dc839-116b-4333-be58-219c8737998e"
      },
      "execution_count": 47,
      "outputs": [
        {
          "output_type": "stream",
          "name": "stdout",
          "text": [
            "\n",
            "Class Distribution in Entire Dataset:\n",
            "Best_Route\n",
            "1    3926\n",
            "Name: count, dtype: int64\n"
          ]
        },
        {
          "output_type": "display_data",
          "data": {
            "text/plain": [
              "<Figure size 640x480 with 1 Axes>"
            ],
            "image/png": "[encoded data removed]"
          },
          "metadata": {}
        }
      ]
    },
    {
      "cell_type": "code",
      "source": [
        "# Initialize SMOTE\n",
        "smote = SMOTE(random_state=42)\n",
        "\n",
        "# Apply SMOTE to the training data\n",
        "X_train_res, y_train_res = smote.fit_resample(X_train, y_train)\n",
        "\n",
        "# Verify the new class distribution\n",
        "print(\"\\nClass Distribution After SMOTE:\")\n",
        "print(pd.Series(y_train_res).value_counts())\n",
        "\n",
        "# Plot the new class distribution\n",
        "sns.countplot(y_train_res)\n",
        "plt.title('Class Distribution After SMOTE')\n",
        "plt.xlabel('Best_Route')\n",
        "plt.ylabel('Count')\n",
        "plt.show()\n"
      ],
      "metadata": {
        "colab": {
          "base_uri": "https://localhost:8080/",
          "height": 356
        },
        "id": "5FEl8NC0DONZ",
        "outputId": "96adabd1-70a1-4b47-e53f-151925cb74d4"
      },
      "execution_count": 45,
      "outputs": [
        {
          "output_type": "error",
          "ename": "ValueError",
          "evalue": "The target 'y' needs to have more than 1 class. Got 1 class instead",
          "traceback": [
            "\u001b[0;31m---------------------------------------------------------------------------\u001b[0m",
            "\u001b[0;31mValueError\u001b[0m                                Traceback (most recent call last)",
            "\u001b[0;32m<ipython-input-45-d0ec154b5d98>\u001b[0m in \u001b[0;36m<cell line: 5>\u001b[0;34m()\u001b[0m\n\u001b[1;32m      3\u001b[0m \u001b[0;34m\u001b[0m\u001b[0m\n\u001b[1;32m      4\u001b[0m \u001b[0;31m# Apply SMOTE to the training data\u001b[0m\u001b[0;34m\u001b[0m\u001b[0;34m\u001b[0m\u001b[0m\n\u001b[0;32m----> 5\u001b[0;31m \u001b[0mX_train_res\u001b[0m\u001b[0;34m,\u001b[0m \u001b[0my_train_res\u001b[0m \u001b[0;34m=\u001b[0m \u001b[0msmote\u001b[0m\u001b[0;34m.\u001b[0m\u001b[0mfit_resample\u001b[0m\u001b[0;34m(\u001b[0m\u001b[0mX_train\u001b[0m\u001b[0;34m,\u001b[0m \u001b[0my_train\u001b[0m\u001b[0;34m)\u001b[0m\u001b[0;34m\u001b[0m\u001b[0;34m\u001b[0m\u001b[0m\n\u001b[0m\u001b[1;32m      6\u001b[0m \u001b[0;34m\u001b[0m\u001b[0m\n\u001b[1;32m      7\u001b[0m \u001b[0;31m# Verify the new class distribution\u001b[0m\u001b[0;34m\u001b[0m\u001b[0;34m\u001b[0m\u001b[0m\n",
            "\u001b[0;32m/usr/local/lib/python3.10/dist-packages/imblearn/base.py\u001b[0m in \u001b[0;36mfit_resample\u001b[0;34m(self, X, y)\u001b[0m\n\u001b[1;32m    206\u001b[0m         \"\"\"\n\u001b[1;32m    207\u001b[0m         \u001b[0mself\u001b[0m\u001b[0;34m.\u001b[0m\u001b[0m_validate_params\u001b[0m\u001b[0;34m(\u001b[0m\u001b[0;34m)\u001b[0m\u001b[0;34m\u001b[0m\u001b[0;34m\u001b[0m\u001b[0m\n\u001b[0;32m--> 208\u001b[0;31m         \u001b[0;32mreturn\u001b[0m \u001b[0msuper\u001b[0m\u001b[0;34m(\u001b[0m\u001b[0;34m)\u001b[0m\u001b[0;34m.\u001b[0m\u001b[0mfit_resample\u001b[0m\u001b[0;34m(\u001b[0m\u001b[0mX\u001b[0m\u001b[0;34m,\u001b[0m \u001b[0my\u001b[0m\u001b[0;34m)\u001b[0m\u001b[0;34m\u001b[0m\u001b[0;34m\u001b[0m\u001b[0m\n\u001b[0m\u001b[1;32m    209\u001b[0m \u001b[0;34m\u001b[0m\u001b[0m\n\u001b[1;32m    210\u001b[0m     \u001b[0;32mdef\u001b[0m \u001b[0m_more_tags\u001b[0m\u001b[0;34m(\u001b[0m\u001b[0mself\u001b[0m\u001b[0;34m)\u001b[0m\u001b[0;34m:\u001b[0m\u001b[0;34m\u001b[0m\u001b[0;34m\u001b[0m\u001b[0m\n",
            "\u001b[0;32m/usr/local/lib/python3.10/dist-packages/imblearn/base.py\u001b[0m in \u001b[0;36mfit_resample\u001b[0;34m(self, X, y)\u001b[0m\n\u001b[1;32m    106\u001b[0m         \u001b[0mX\u001b[0m\u001b[0;34m,\u001b[0m \u001b[0my\u001b[0m\u001b[0;34m,\u001b[0m \u001b[0mbinarize_y\u001b[0m \u001b[0;34m=\u001b[0m \u001b[0mself\u001b[0m\u001b[0;34m.\u001b[0m\u001b[0m_check_X_y\u001b[0m\u001b[0;34m(\u001b[0m\u001b[0mX\u001b[0m\u001b[0;34m,\u001b[0m \u001b[0my\u001b[0m\u001b[0;34m)\u001b[0m\u001b[0;34m\u001b[0m\u001b[0;34m\u001b[0m\u001b[0m\n\u001b[1;32m    107\u001b[0m \u001b[0;34m\u001b[0m\u001b[0m\n\u001b[0;32m--> 108\u001b[0;31m         self.sampling_strategy_ = check_sampling_strategy(\n\u001b[0m\u001b[1;32m    109\u001b[0m             \u001b[0mself\u001b[0m\u001b[0;34m.\u001b[0m\u001b[0msampling_strategy\u001b[0m\u001b[0;34m,\u001b[0m \u001b[0my\u001b[0m\u001b[0;34m,\u001b[0m \u001b[0mself\u001b[0m\u001b[0;34m.\u001b[0m\u001b[0m_sampling_type\u001b[0m\u001b[0;34m\u001b[0m\u001b[0;34m\u001b[0m\u001b[0m\n\u001b[1;32m    110\u001b[0m         )\n",
            "\u001b[0;32m/usr/local/lib/python3.10/dist-packages/imblearn/utils/_validation.py\u001b[0m in \u001b[0;36mcheck_sampling_strategy\u001b[0;34m(sampling_strategy, y, sampling_type, **kwargs)\u001b[0m\n\u001b[1;32m    535\u001b[0m \u001b[0;34m\u001b[0m\u001b[0m\n\u001b[1;32m    536\u001b[0m     \u001b[0;32mif\u001b[0m \u001b[0mnp\u001b[0m\u001b[0;34m.\u001b[0m\u001b[0munique\u001b[0m\u001b[0;34m(\u001b[0m\u001b[0my\u001b[0m\u001b[0;34m)\u001b[0m\u001b[0;34m.\u001b[0m\u001b[0msize\u001b[0m \u001b[0;34m<=\u001b[0m \u001b[0;36m1\u001b[0m\u001b[0;34m:\u001b[0m\u001b[0;34m\u001b[0m\u001b[0;34m\u001b[0m\u001b[0m\n\u001b[0;32m--> 537\u001b[0;31m         raise ValueError(\n\u001b[0m\u001b[1;32m    538\u001b[0m             \u001b[0;34mf\"The target 'y' needs to have more than 1 class. \"\u001b[0m\u001b[0;34m\u001b[0m\u001b[0;34m\u001b[0m\u001b[0m\n\u001b[1;32m    539\u001b[0m             \u001b[0;34mf\"Got {np.unique(y).size} class instead\"\u001b[0m\u001b[0;34m\u001b[0m\u001b[0;34m\u001b[0m\u001b[0m\n",
            "\u001b[0;31mValueError\u001b[0m: The target 'y' needs to have more than 1 class. Got 1 class instead"
          ]
        }
      ]
    },
    {
      "cell_type": "markdown",
      "source": [],
      "metadata": {
        "id": "coFAM0ZviG55"
      }
    },
    {
      "cell_type": "code",
      "source": [
        "# Define LightGBM parameters\n",
        "params = {\n",
        "    'objective': 'binary',\n",
        "    'metric': ['binary_logloss', 'auc'],\n",
        "    'boosting_type': 'gbdt',\n",
        "    'num_leaves': 31,\n",
        "    'learning_rate': 0.05,\n",
        "    'feature_fraction': 0.9,\n",
        "    'bagging_fraction': 0.8,\n",
        "    'bagging_freq': 5,\n",
        "    'verbose': -1\n",
        "}\n",
        "\n",
        "# Create LightGBM datasets\n",
        "train_data = lgb.Dataset(X_train_res, label=y_train_res)\n",
        "valid_data = lgb.Dataset(X_test, label=y_test, reference=train_data)\n",
        "\n",
        "# Train the model with early stopping\n",
        "gbm = lgb.train(\n",
        "    params,\n",
        "    train_data,\n",
        "    num_boost_round=1000,\n",
        "    valid_sets=[valid_data],\n",
        "    early_stopping_rounds=50,\n",
        "    verbose_eval=100\n",
        ")\n"
      ],
      "metadata": {
        "id": "DGTXPDQdiLY9"
      },
      "execution_count": null,
      "outputs": []
    },
    {
      "cell_type": "markdown",
      "source": [],
      "metadata": {
        "id": "6uujF9PIiOVl"
      }
    },
    {
      "cell_type": "code",
      "source": [
        "# Predict probabilities on the test set\n",
        "y_pred_prob = gbm.predict(X_test, num_iteration=gbm.best_iteration)\n",
        "\n",
        "# Convert probabilities to binary predictions using a threshold of 0.5\n",
        "y_pred = [1 if prob >= 0.5 else 0 for prob in y_pred_prob]\n",
        "\n",
        "# Calculate evaluation metrics\n",
        "accuracy = accuracy_score(y_test, y_pred)\n",
        "roc_auc = roc_auc_score(y_test, y_pred_prob)\n",
        "conf_matrix = confusion_matrix(y_test, y_pred)\n",
        "class_report = classification_report(y_test, y_pred)\n",
        "\n",
        "print(f\"Accuracy: {accuracy:.4f}\")\n",
        "print(f\"ROC-AUC: {roc_auc:.4f}\")\n",
        "print(\"\\nConfusion Matrix:\")\n",
        "print(conf_matrix)\n",
        "print(\"\\nClassification Report:\")\n",
        "print(class_report)\n"
      ],
      "metadata": {
        "id": "7zALZ2sHiNAr"
      },
      "execution_count": null,
      "outputs": []
    },
    {
      "cell_type": "markdown",
      "source": [],
      "metadata": {
        "id": "bIlDxzVMiRor"
      }
    },
    {
      "cell_type": "code",
      "source": [
        "# Feature importance based on split\n",
        "lgb.plot_importance(gbm, max_num_features=15, importance_type='split', figsize=(10,6))\n",
        "plt.title('Feature Importance (Split)')\n",
        "plt.show()\n",
        "\n",
        "# Feature importance based on gain\n",
        "lgb.plot_importance(gbm, max_num_features=15, importance_type='gain', figsize=(10,6))\n",
        "plt.title('Feature Importance (Gain)')\n",
        "plt.show()\n"
      ],
      "metadata": {
        "id": "nDrF8SIMiQI7"
      },
      "execution_count": null,
      "outputs": []
    },
    {
      "cell_type": "code",
      "source": [
        "import shap\n",
        "\n",
        "# Initialize SHAP explainer\n",
        "explainer = shap.TreeExplainer(gbm)\n",
        "shap_values = explainer.shap_values(X_test)\n",
        "\n",
        "# SHAP Summary Plot (Bar)\n",
        "shap.summary_plot(shap_values, X_test, plot_type=\"bar\")\n",
        "\n",
        "# SHAP Summary Plot (Dot)\n",
        "shap.summary_plot(shap_values, X_test)\n"
      ],
      "metadata": {
        "id": "9zN0Yk_liVdQ"
      },
      "execution_count": null,
      "outputs": []
    },
    {
      "cell_type": "markdown",
      "source": [],
      "metadata": {
        "id": "YFneXN8WiYru"
      }
    },
    {
      "cell_type": "code",
      "source": [
        "# Save the model to a file\n",
        "gbm.save_model('lightgbm_best_bus_route_model.txt')\n"
      ],
      "metadata": {
        "id": "jHyyaRABiW8h"
      },
      "execution_count": null,
      "outputs": []
    },
    {
      "cell_type": "code",
      "source": [
        "# Load the model from the file\n",
        "gbm_loaded = lgb.Booster(model_file='lightgbm_best_bus_route_model.txt')\n",
        "\n",
        "# Verify by making a prediction\n",
        "sample = X_test.iloc[:5]\n",
        "sample_pred_prob = gbm_loaded.predict(sample, num_iteration=gbm_loaded.best_iteration)\n",
        "print(sample_pred_prob)\n"
      ],
      "metadata": {
        "id": "Kpv8Lp02iatB"
      },
      "execution_count": null,
      "outputs": []
    }
  ]
}